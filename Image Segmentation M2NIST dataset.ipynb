{
  "cells": [
    {
      "cell_type": "markdown",
      "metadata": {
        "id": "k6x_sGPQocpw"
      },
      "source": [
        "Image Segmentation of Handwritten Digits\n",
        "\n",
        "<img src='https://drive.google.com/uc?export=view&id=1-WBX7w_R9abwdGmAUBFWWEcJ0LkMppq2' alt='m2nist digits'>\n",
        "\n",
        "We will build a model that predicts the segmentation masks (pixel-wise label map) of handwritten digits. This model will be trained on the [M2NIST dataset](https://www.kaggle.com/farhanhubble/multimnistm2nist), a multi digit MNIST.\n",
        "\n",
        "Will be building a Convolutional Neural Network (CNN) from scratch for the downsampling path and use a Fully Convolutional Network, FCN-8, to upsample and produce the pixel-wise label map. The model will be evaluated using the intersection over union (IOU) and Dice Score. "
      ]
    },
    {
      "cell_type": "markdown",
      "metadata": {
        "id": "MZ3g9dJxSxmN"
      },
      "source": [
        "## Imports"
      ]
    },
    {
      "cell_type": "code",
      "execution_count": 1,
      "metadata": {
        "colab": {
          "base_uri": "https://localhost:8080/"
        },
        "id": "aifz2907kxYN",
        "outputId": "8e587a41-1b80-4374-e120-bc0c075a8819"
      },
      "outputs": [
        {
          "output_type": "stream",
          "name": "stdout",
          "text": [
            "Tensorflow version 2.12.0\n"
          ]
        }
      ],
      "source": [
        "import os\n",
        "import zipfile\n",
        "\n",
        "import PIL.Image, PIL.ImageFont, PIL.ImageDraw\n",
        "import numpy as np\n",
        "from matplotlib import pyplot as plt\n",
        "\n",
        "import tensorflow as tf\n",
        "import tensorflow_datasets as tfds\n",
        "from sklearn.model_selection import train_test_split\n",
        "\n",
        "print(\"Tensorflow version \" + tf.__version__)"
      ]
    },
    {
      "cell_type": "markdown",
      "metadata": {
        "id": "7RYh6cCzXE6R"
      },
      "source": [
        "## Download the dataset"
      ]
    },
    {
      "cell_type": "markdown",
      "metadata": {
        "id": "QUGGF3wfqYni"
      },
      "source": [
        "[M2NIST](https://www.kaggle.com/farhanhubble/multimnistm2nist) is a **multi digit** [MNIST](http://yann.lecun.com/exdb/mnist/). \n",
        "Each image has up to 3 digits from MNIST digits and the corresponding labels file has the segmentation masks.\n",
        "\n",
        "The dataset is available on [Kaggle](https://www.kaggle.com) and you can find it [here](https://www.kaggle.com/farhanhubble/multimnistm2nist)"
      ]
    },
    {
      "cell_type": "code",
      "execution_count": 2,
      "metadata": {
        "colab": {
          "base_uri": "https://localhost:8080/"
        },
        "id": "ROok0i9rMcu0",
        "outputId": "bb02655e-eeb8-4425-e474-158e723d54c8"
      },
      "outputs": [
        {
          "output_type": "stream",
          "name": "stdout",
          "text": [
            "--2023-04-17 17:36:00--  https://storage.googleapis.com/tensorflow-1-public/tensorflow-3-temp/m2nist.zip\n",
            "Resolving storage.googleapis.com (storage.googleapis.com)... 74.125.68.128, 74.125.24.128, 142.250.4.128, ...\n",
            "Connecting to storage.googleapis.com (storage.googleapis.com)|74.125.68.128|:443... connected.\n",
            "HTTP request sent, awaiting response... 200 OK\n",
            "Length: 17378168 (17M) [application/zip]\n",
            "Saving to: ‘/tmp/m2nist.zip’\n",
            "\n",
            "/tmp/m2nist.zip     100%[===================>]  16.57M  9.59MB/s    in 1.7s    \n",
            "\n",
            "2023-04-17 17:36:02 (9.59 MB/s) - ‘/tmp/m2nist.zip’ saved [17378168/17378168]\n",
            "\n"
          ]
        }
      ],
      "source": [
        "# download zipped dataset\n",
        "!wget --no-check-certificate \\\n",
        "    https://storage.googleapis.com/tensorflow-1-public/tensorflow-3-temp/m2nist.zip \\\n",
        "    -O /tmp/m2nist.zip\n",
        "\n",
        "# find and extract to a local folder ('/tmp/training')\n",
        "local_zip = '/tmp/m2nist.zip'\n",
        "zip_ref = zipfile.ZipFile(local_zip, 'r')\n",
        "zip_ref.extractall('/tmp/training')\n",
        "zip_ref.close()"
      ]
    },
    {
      "cell_type": "markdown",
      "metadata": {
        "id": "xy17LYR7XJNa"
      },
      "source": [
        "## Load and Preprocess the Dataset"
      ]
    },
    {
      "cell_type": "markdown",
      "metadata": {
        "id": "LXGMrWnkrvpK"
      },
      "source": [
        "This dataset can be easily preprocessed since it is available as **Numpy Array Files (.npy)**\n",
        "\n",
        "1. **combined.npy** has the image files containing the multiple MNIST digits. Each image is of size **64 x 84** (height x width, in pixels).\n",
        "\n",
        "2. **segmented.npy** has the corresponding segmentation masks. Each segmentation mask is also of size **64 x 84**.\n",
        "\n",
        "This dataset has **5000** samples and you can make appropriate training, validation, and test splits as required for the problem.\n",
        "\n",
        "With that, let's define a few utility functions for loading and preprocessing the dataset."
      ]
    },
    {
      "cell_type": "code",
      "execution_count": 3,
      "metadata": {
        "id": "Jy_pw5I2-xLP"
      },
      "outputs": [],
      "source": [
        "BATCH_SIZE = 32\n",
        "\n",
        "def read_image_and_annotation(image, annotation):\n",
        "  '''\n",
        "  Casts the image and annotation to their expected data type and\n",
        "  normalizes the input image so that each pixel is in the range [-1, 1]\n",
        "\n",
        "  Args:\n",
        "    image (numpy array) -- input image\n",
        "    annotation (numpy array) -- ground truth label map\n",
        "\n",
        "  Returns:\n",
        "    preprocessed image-annotation pair\n",
        "  '''\n",
        "\n",
        "  image = tf.cast(image, dtype=tf.float32)\n",
        "  image = tf.reshape(image, (image.shape[0], image.shape[1], 1,))\n",
        "  annotation = tf.cast(annotation, dtype=tf.int32)\n",
        "  image = image / 127.5\n",
        "  image -= 1\n",
        "\n",
        "  return image, annotation\n",
        "\n",
        "\n",
        "def get_training_dataset(images, annos):\n",
        "  '''\n",
        "  Prepares shuffled batches of the training set.\n",
        "  \n",
        "  Args:\n",
        "    images (list of strings) -- paths to each image file in the train set\n",
        "    annos (list of strings) -- paths to each label map in the train set\n",
        "\n",
        "  Returns:\n",
        "    tf Dataset containing the preprocessed train set\n",
        "  '''\n",
        "  training_dataset = tf.data.Dataset.from_tensor_slices((images, annos))\n",
        "  training_dataset = training_dataset.map(read_image_and_annotation)\n",
        "\n",
        "  training_dataset = training_dataset.shuffle(512, reshuffle_each_iteration=True)\n",
        "  training_dataset = training_dataset.batch(BATCH_SIZE)\n",
        "  training_dataset = training_dataset.repeat()\n",
        "  training_dataset = training_dataset.prefetch(-1)\n",
        "\n",
        "  return training_dataset\n",
        "\n",
        "\n",
        "def get_validation_dataset(images, annos):\n",
        "  '''\n",
        "  Prepares batches of the validation set.\n",
        "  \n",
        "  Args:\n",
        "    images (list of strings) -- paths to each image file in the val set\n",
        "    annos (list of strings) -- paths to each label map in the val set\n",
        "\n",
        "  Returns:\n",
        "    tf Dataset containing the preprocessed validation set\n",
        "  '''\n",
        "  validation_dataset = tf.data.Dataset.from_tensor_slices((images, annos))\n",
        "  validation_dataset = validation_dataset.map(read_image_and_annotation)\n",
        "  validation_dataset = validation_dataset.batch(BATCH_SIZE)\n",
        "  validation_dataset = validation_dataset.repeat()\n",
        "\n",
        "  return validation_dataset\n",
        "\n",
        "\n",
        "def get_test_dataset(images, annos):\n",
        "  '''\n",
        "  Prepares batches of the test set.\n",
        "  \n",
        "  Args:\n",
        "    images (list of strings) -- paths to each image file in the test set\n",
        "    annos (list of strings) -- paths to each label map in the test set\n",
        "\n",
        "  Returns:\n",
        "    tf Dataset containing the preprocessed validation set\n",
        "  '''\n",
        "  test_dataset = tf.data.Dataset.from_tensor_slices((images, annos))\n",
        "  test_dataset = test_dataset.map(read_image_and_annotation)\n",
        "  test_dataset = test_dataset.batch(BATCH_SIZE, drop_remainder=True)\n",
        "\n",
        "  return test_dataset\n",
        "\n",
        "\n",
        "def load_images_and_segments():\n",
        "  '''\n",
        "  Loads the images and segments as numpy arrays from npy files \n",
        "  and makes splits for training, validation and test datasets.\n",
        "\n",
        "  Returns:\n",
        "    3 tuples containing the train, val, and test splits\n",
        "  '''\n",
        "\n",
        "  #Loads images and segmentation masks.\n",
        "  images = np.load('/tmp/training/combined.npy')\n",
        "  segments = np.load('/tmp/training/segmented.npy')\n",
        "\n",
        "  #Makes training, validation, test splits from loaded images and segmentation masks.\n",
        "  train_images, val_images, train_annos, val_annos = train_test_split(images, segments, test_size=0.2, shuffle=True)\n",
        "  val_images, test_images, val_annos, test_annos = train_test_split(val_images, val_annos, test_size=0.2, shuffle=True)\n",
        "\n",
        "  return (train_images, train_annos), (val_images, val_annos), (test_images, test_annos)\n"
      ]
    },
    {
      "cell_type": "markdown",
      "metadata": {
        "id": "iPHO1YbTACcu"
      },
      "source": [
        "Load the preprocessed dataset and define the training, validation, and test sets."
      ]
    },
    {
      "cell_type": "code",
      "execution_count": 4,
      "metadata": {
        "id": "hIS70_um_Y7n",
        "lines_to_next_cell": 2
      },
      "outputs": [],
      "source": [
        "# Load Dataset\n",
        "train_slices, val_slices, test_slices = load_images_and_segments()\n",
        "\n",
        "# Create training, validation, test datasets.\n",
        "training_dataset = get_training_dataset(train_slices[0], train_slices[1])\n",
        "validation_dataset = get_validation_dataset(val_slices[0], val_slices[1])\n",
        "test_dataset = get_test_dataset(test_slices[0], test_slices[1])"
      ]
    },
    {
      "cell_type": "markdown",
      "metadata": {
        "id": "oKXJYZi7A0dF"
      },
      "source": [
        "## Let's Take a Look at the Dataset\n",
        "\n",
        "Lets visually inspect the dataset before and after training. The utility functions above helps to show a few images as well as their annotations (i.e. labels)."
      ]
    },
    {
      "cell_type": "code",
      "execution_count": 5,
      "metadata": {
        "cellView": "both",
        "id": "d46YCbvPafbp"
      },
      "outputs": [],
      "source": [
        "# Visualization Utilities\n",
        "\n",
        "# there are 11 classes in the dataset: one class for each digit (0 to 9) plus the background class\n",
        "n_classes = 11\n",
        "\n",
        "# assign a random color for each class\n",
        "colors = [tuple(np.random.randint(256, size=3) / 255.0) for i in range(n_classes)]\n",
        "\n",
        "def fuse_with_pil(images):\n",
        "  '''\n",
        "  Creates a blank image and pastes input images\n",
        "\n",
        "  Args:\n",
        "    images (list of numpy arrays) - numpy array representations of the images to paste\n",
        "  \n",
        "  Returns:\n",
        "    PIL Image object containing the images\n",
        "  '''\n",
        "\n",
        "  widths = (image.shape[1] for image in images)\n",
        "  heights = (image.shape[0] for image in images)\n",
        "  total_width = sum(widths)\n",
        "  max_height = max(heights)\n",
        "\n",
        "  new_im = PIL.Image.new('RGB', (total_width, max_height))\n",
        "\n",
        "  x_offset = 0\n",
        "  for im in images:\n",
        "    pil_image = PIL.Image.fromarray(np.uint8(im))\n",
        "    new_im.paste(pil_image, (x_offset,0))\n",
        "    x_offset += im.shape[1]\n",
        "  \n",
        "  return new_im\n",
        "\n",
        "\n",
        "def give_color_to_annotation(annotation):\n",
        "  '''\n",
        "  Converts a 2-D annotation to a numpy array with shape (height, width, 3) where\n",
        "  the third axis represents the color channel. The label values are multiplied by\n",
        "  255 and placed in this axis to give color to the annotation\n",
        "\n",
        "  Args:\n",
        "    annotation (numpy array) - label map array\n",
        "  \n",
        "  Returns:\n",
        "    the annotation array with an additional color channel/axis\n",
        "  '''\n",
        "  seg_img = np.zeros( (annotation.shape[0],annotation.shape[1], 3) ).astype('float')\n",
        "  \n",
        "  for c in range(n_classes):\n",
        "    segc = (annotation == c)\n",
        "    seg_img[:,:,0] += segc*( colors[c][0] * 255.0)\n",
        "    seg_img[:,:,1] += segc*( colors[c][1] * 255.0)\n",
        "    seg_img[:,:,2] += segc*( colors[c][2] * 255.0)\n",
        "  \n",
        "  return seg_img\n",
        "\n",
        "\n",
        "def show_annotation_and_prediction(image, annotation, prediction, iou_list, dice_score_list):\n",
        "  '''\n",
        "  Displays the images with the ground truth and predicted label maps. Also overlays the metrics.\n",
        "\n",
        "  Args:\n",
        "    image (numpy array) -- the input image\n",
        "    annotation (numpy array) -- the ground truth label map\n",
        "    prediction (numpy array) -- the predicted label map\n",
        "    iou_list (list of floats) -- the IOU values for each class\n",
        "    dice_score_list (list of floats) -- the Dice Score for each class\n",
        "  '''\n",
        "\n",
        "  new_ann = np.argmax(annotation, axis=2)\n",
        "  true_img = give_color_to_annotation(new_ann)\n",
        "  pred_img = give_color_to_annotation(prediction)\n",
        "\n",
        "  image = image + 1\n",
        "  image = image * 127.5\n",
        "  image = np.reshape(image, (image.shape[0], image.shape[1],))\n",
        "  image = np.uint8(image)\n",
        "  images = [image, np.uint8(pred_img), np.uint8(true_img)]\n",
        "\n",
        "  metrics_by_id = [(idx, iou, dice_score) for idx, (iou, dice_score) in enumerate(zip(iou_list, dice_score_list)) if iou > 0.0 and idx < 10]\n",
        "  metrics_by_id.sort(key=lambda tup: tup[1], reverse=True)  # sorts in place\n",
        "\n",
        "  display_string_list = [\"{}: IOU: {} Dice Score: {}\".format(idx, iou, dice_score) for idx, iou, dice_score in metrics_by_id]\n",
        "  display_string = \"\\n\".join(display_string_list)\n",
        "\n",
        "  plt.figure(figsize=(15, 4))\n",
        "\n",
        "  for idx, im in enumerate(images):\n",
        "    plt.subplot(1, 3, idx+1)\n",
        "    if idx == 1:\n",
        "      plt.xlabel(display_string)\n",
        "    plt.xticks([])\n",
        "    plt.yticks([])\n",
        "    plt.imshow(im)\n",
        "\n",
        "\n",
        "def show_annotation_and_image(image, annotation):\n",
        "  '''\n",
        "  Displays the image and its annotation side by side\n",
        "\n",
        "  Args:\n",
        "    image (numpy array) -- the input image\n",
        "    annotation (numpy array) -- the label map\n",
        "  '''\n",
        "  new_ann = np.argmax(annotation, axis=2)\n",
        "  seg_img = give_color_to_annotation(new_ann)\n",
        "  \n",
        "  image = image + 1\n",
        "  image = image * 127.5\n",
        "  image = np.reshape(image, (image.shape[0], image.shape[1],))\n",
        "\n",
        "  image = np.uint8(image)\n",
        "  images = [image, seg_img]\n",
        "  \n",
        "  images = [image, seg_img]\n",
        "  fused_img = fuse_with_pil(images)\n",
        "  plt.imshow(fused_img)\n",
        "\n",
        "\n",
        "def list_show_annotation(dataset, num_images):\n",
        "  '''\n",
        "  Displays images and its annotations side by side\n",
        "\n",
        "  Args:\n",
        "    dataset (tf Dataset) -- batch of images and annotations\n",
        "    num_images (int) -- number of images to display\n",
        "  '''\n",
        "  ds = dataset.unbatch()\n",
        "\n",
        "  plt.figure(figsize=(20, 15))\n",
        "  plt.title(\"Images And Annotations\")\n",
        "  plt.subplots_adjust(bottom=0.1, top=0.9, hspace=0.05)\n",
        "\n",
        "  for idx, (image, annotation) in enumerate(ds.take(num_images)):\n",
        "    plt.subplot(5, 5, idx + 1)\n",
        "    plt.yticks([])\n",
        "    plt.xticks([])\n",
        "    show_annotation_and_image(image.numpy(), annotation.numpy())\n"
      ]
    },
    {
      "cell_type": "markdown",
      "metadata": {
        "id": "hEfyChmKEFKe"
      },
      "source": [
        "We can view a subset of the images from the dataset with the `list_show_annotation()` function defined above. Run the cells below to see the image on the left and its pixel-wise ground truth label map on the right."
      ]
    },
    {
      "cell_type": "code",
      "execution_count": 6,
      "metadata": {
        "colab": {
          "base_uri": "https://localhost:8080/",
          "height": 416
        },
        "id": "AFO_hIhLWYT4",
        "outputId": "338998a3-7a92-4934-c7b5-494b02884edd"
      },
      "outputs": [
        {
          "output_type": "stream",
          "name": "stderr",
          "text": [
            "<ipython-input-5-9f9d172ab684>:136: MatplotlibDeprecationWarning: Auto-removal of overlapping axes is deprecated since 3.6 and will be removed two minor releases later; explicitly call ax.remove() as needed.\n",
            "  plt.subplot(5, 5, idx + 1)\n"
          ]
        },
        {
          "output_type": "display_data",
          "data": {
            "text/plain": [
              "<Figure size 2000x1500 with 10 Axes>"
            ],
            "image/png": "[encoded data removed]"
          },
          "metadata": {}
        }
      ],
      "source": [
        "# get 10 images from the training set\n",
        "list_show_annotation(training_dataset, 10)"
      ]
    },
    {
      "cell_type": "code",
      "execution_count": 7,
      "metadata": {
        "colab": {
          "base_uri": "https://localhost:8080/",
          "height": 416
        },
        "id": "bdgVkp8wZua0",
        "outputId": "d6e0d512-32c3-49c1-b2c6-014815b5f5f8"
      },
      "outputs": [
        {
          "output_type": "stream",
          "name": "stderr",
          "text": [
            "<ipython-input-5-9f9d172ab684>:136: MatplotlibDeprecationWarning: Auto-removal of overlapping axes is deprecated since 3.6 and will be removed two minor releases later; explicitly call ax.remove() as needed.\n",
            "  plt.subplot(5, 5, idx + 1)\n"
          ]
        },
        {
          "output_type": "display_data",
          "data": {
            "text/plain": [
              "<Figure size 2000x1500 with 10 Axes>"
            ],
            "image/png": "[encoded data removed]"
          },
          "metadata": {}
        }
      ],
      "source": [
        "# get 10 images from the validation set\n",
        "list_show_annotation(validation_dataset, 10)"
      ]
    },
    {
      "cell_type": "markdown",
      "metadata": {
        "id": "QFv2k8xabRb8"
      },
      "source": [
        "## Define the Model"
      ]
    },
    {
      "cell_type": "markdown",
      "metadata": {
        "id": "Q_ylpyqJDQiF"
      },
      "source": [
        "The image segmentation model will have two paths:\n",
        "\n",
        "1. **Downsampling Path** - This part of the network extracts the features in the image. This is done through a series of convolution and pooling layers. The final output is a reduced image (because of the pooling layers) with the extracted features. You will build a custom CNN from scratch for this path.\n",
        "\n",
        "2. **Upsampling Path** - This takes the output of the downsampling path and generates the predictions while also converting the image back to its original size. You will use an FCN-8 decoder for this path."
      ]
    },
    {
      "cell_type": "markdown",
      "metadata": {
        "id": "BHlBUZvsDybt"
      },
      "source": [
        "### Define the Basic Convolution Block"
      ]
    },
    {
      "cell_type": "markdown",
      "metadata": {
        "id": "T-XO9xkN1OR3"
      },
      "source": [
        "\n",
        "$$Input -> Conv2D -> LeakyReLU -> Conv2D -> LeakyReLU -> MaxPooling2D -> BatchNormalization$$\n"
      ]
    },
    {
      "cell_type": "code",
      "execution_count": 8,
      "metadata": {
        "id": "azEEVytHR0Kn"
      },
      "outputs": [],
      "source": [
        "# parameter describing where the channel dimension is found in our dataset\n",
        "IMAGE_ORDERING = 'channels_last'\n",
        "\n",
        "def conv_block(input, filters, kernel_size, pooling_size, pool_strides):\n",
        "  '''\n",
        "  Args:\n",
        "    input (tensor) -- batch of images or features\n",
        "    filters (int) -- number of filters of the Conv2D layers\n",
        "    kernel_size (int) -- kernel_size setting of the Conv2D layers\n",
        "    pooling_size (int) -- pooling size of the MaxPooling2D layers\n",
        "    pool_strides (int) -- strides setting of the MaxPooling2D layers\n",
        "  \n",
        "  Returns:\n",
        "    (tensor) max pooled and batch-normalized features of the input \n",
        "  '''\n",
        "\n",
        "  # use the functional syntax to stack the layers as shown in the diagram above\n",
        "  x = tf.keras.layers.Conv2D(filters, kernel_size, padding='same', data_format=IMAGE_ORDERING)(input)\n",
        "  x = tf.keras.layers.LeakyReLU()(x)\n",
        "  x = tf.keras.layers.Conv2D(filters, kernel_size, padding='same')(x)\n",
        "  x = tf.keras.layers.LeakyReLU()(x)\n",
        "  x = tf.keras.layers.MaxPooling2D(pool_size= pooling_size, strides= pool_strides)(x)\n",
        "  x = tf.keras.layers.BatchNormalization()(x)\n",
        "\n",
        "\n",
        "  return x"
      ]
    },
    {
      "cell_type": "code",
      "execution_count": 9,
      "metadata": {
        "colab": {
          "base_uri": "https://localhost:8080/"
        },
        "id": "uGtlHuM6KCRg",
        "outputId": "1aff4f8b-ed0e-4427-e1a1-d5888f52bc5c"
      },
      "outputs": [
        {
          "output_type": "stream",
          "name": "stdout",
          "text": [
            "Model: \"model\"\n",
            "_________________________________________________________________\n",
            " Layer (type)                Output Shape              Param #   \n",
            "=================================================================\n",
            " input_1 (InputLayer)        [(None, 64, 84, 1)]       0         \n",
            "                                                                 \n",
            " conv2d (Conv2D)             (None, 64, 84, 32)        320       \n",
            "                                                                 \n",
            " leaky_re_lu (LeakyReLU)     (None, 64, 84, 32)        0         \n",
            "                                                                 \n",
            " conv2d_1 (Conv2D)           (None, 64, 84, 32)        9248      \n",
            "                                                                 \n",
            " leaky_re_lu_1 (LeakyReLU)   (None, 64, 84, 32)        0         \n",
            "                                                                 \n",
            " max_pooling2d (MaxPooling2D  (None, 32, 42, 32)       0         \n",
            " )                                                               \n",
            "                                                                 \n",
            " batch_normalization (BatchN  (None, 32, 42, 32)       128       \n",
            " ormalization)                                                   \n",
            "                                                                 \n",
            "=================================================================\n",
            "Total params: 9,696\n",
            "Trainable params: 9,632\n",
            "Non-trainable params: 64\n",
            "_________________________________________________________________\n",
            "None\n"
          ]
        }
      ],
      "source": [
        "# TEST CODE:\n",
        "\n",
        "test_input = tf.keras.layers.Input(shape=(64,84, 1))\n",
        "test_output = conv_block(test_input, 32, 3, 2, 2)\n",
        "test_model = tf.keras.Model(inputs=test_input, outputs=test_output)\n",
        "\n",
        "print(test_model.summary())\n",
        "\n",
        "# free up test resources\n",
        "del test_input, test_output, test_model"
      ]
    },
    {
      "cell_type": "markdown",
      "metadata": {
        "id": "4-jJbC91EXTV"
      },
      "source": [
        "### Define the Downsampling Path"
      ]
    },
    {
      "cell_type": "markdown",
      "metadata": {
        "id": "e2ueOTmc3HxJ"
      },
      "source": [
        "Now that we've defined the building block of our encoder, you can now build the downsampling path. This should chain together five convolution building blocks to create a feature extraction CNN minus the fully connected layers.\n"
      ]
    },
    {
      "cell_type": "code",
      "execution_count": 10,
      "metadata": {
        "id": "F2VNB99LRwQr"
      },
      "outputs": [],
      "source": [
        "def FCN8(input_height=64, input_width=84):\n",
        "    '''\n",
        "    Defines the downsampling path of the image segmentation model.\n",
        "\n",
        "    Args:\n",
        "      input_height (int) -- height of the images\n",
        "      width (int) -- width of the images\n",
        "\n",
        "    Returns:\n",
        "    (tuple of tensors, tensor)\n",
        "      tuple of tensors -- features extracted at blocks 3 to 5\n",
        "      tensor -- copy of the input\n",
        "    '''\n",
        "   \n",
        "    img_input = tf.keras.layers.Input(shape=(input_height,input_width, 1))\n",
        "\n",
        "\n",
        "    \n",
        "    # pad the input image width to 96 pixels\n",
        "    x = tf.keras.layers.ZeroPadding2D(((0, 0), (0, 96-input_width)))(img_input)\n",
        "    \n",
        "    # Block 1\n",
        "    x = conv_block(x, 32, 2, 2, 2)\n",
        "    \n",
        "    # Block 2\n",
        "    x = conv_block(x, 64, 2, 2, 2)\n",
        "\n",
        "    # Block 3\n",
        "    x = conv_block(x, 128, 2, 2, 2)\n",
        "    # save the feature map at this stage\n",
        "    f3 = x\n",
        "\n",
        "    # Block 4\n",
        "    x = conv_block(x, 256, 2, 2, 2)\n",
        "    # save the feature map at this stage\n",
        "    f4 = x\n",
        "\n",
        "    # Block 5\n",
        "    x = conv_block(x, 256, 2, 2, 2)\n",
        "    # save the feature map at this stage\n",
        "    f5 = x\n",
        "\n",
        "\n",
        "  \n",
        "    return (f3, f4, f5), img_input"
      ]
    },
    {
      "cell_type": "code",
      "execution_count": 11,
      "metadata": {
        "colab": {
          "base_uri": "https://localhost:8080/"
        },
        "id": "HVQm1W0CNICS",
        "outputId": "65e949d5-3c4d-49a4-af29-f870fe1e4319"
      },
      "outputs": [
        {
          "output_type": "stream",
          "name": "stdout",
          "text": [
            "Model: \"model_1\"\n",
            "_________________________________________________________________\n",
            " Layer (type)                Output Shape              Param #   \n",
            "=================================================================\n",
            " input_2 (InputLayer)        [(None, 64, 84, 1)]       0         \n",
            "                                                                 \n",
            " zero_padding2d (ZeroPadding  (None, 64, 96, 1)        0         \n",
            " 2D)                                                             \n",
            "                                                                 \n",
            " conv2d_2 (Conv2D)           (None, 64, 96, 32)        160       \n",
            "                                                                 \n",
            " leaky_re_lu_2 (LeakyReLU)   (None, 64, 96, 32)        0         \n",
            "                                                                 \n",
            " conv2d_3 (Conv2D)           (None, 64, 96, 32)        4128      \n",
            "                                                                 \n",
            " leaky_re_lu_3 (LeakyReLU)   (None, 64, 96, 32)        0         \n",
            "                                                                 \n",
            " max_pooling2d_1 (MaxPooling  (None, 32, 48, 32)       0         \n",
            " 2D)                                                             \n",
            "                                                                 \n",
            " batch_normalization_1 (Batc  (None, 32, 48, 32)       128       \n",
            " hNormalization)                                                 \n",
            "                                                                 \n",
            " conv2d_4 (Conv2D)           (None, 32, 48, 64)        8256      \n",
            "                                                                 \n",
            " leaky_re_lu_4 (LeakyReLU)   (None, 32, 48, 64)        0         \n",
            "                                                                 \n",
            " conv2d_5 (Conv2D)           (None, 32, 48, 64)        16448     \n",
            "                                                                 \n",
            " leaky_re_lu_5 (LeakyReLU)   (None, 32, 48, 64)        0         \n",
            "                                                                 \n",
            " max_pooling2d_2 (MaxPooling  (None, 16, 24, 64)       0         \n",
            " 2D)                                                             \n",
            "                                                                 \n",
            " batch_normalization_2 (Batc  (None, 16, 24, 64)       256       \n",
            " hNormalization)                                                 \n",
            "                                                                 \n",
            " conv2d_6 (Conv2D)           (None, 16, 24, 128)       32896     \n",
            "                                                                 \n",
            " leaky_re_lu_6 (LeakyReLU)   (None, 16, 24, 128)       0         \n",
            "                                                                 \n",
            " conv2d_7 (Conv2D)           (None, 16, 24, 128)       65664     \n",
            "                                                                 \n",
            " leaky_re_lu_7 (LeakyReLU)   (None, 16, 24, 128)       0         \n",
            "                                                                 \n",
            " max_pooling2d_3 (MaxPooling  (None, 8, 12, 128)       0         \n",
            " 2D)                                                             \n",
            "                                                                 \n",
            " batch_normalization_3 (Batc  (None, 8, 12, 128)       512       \n",
            " hNormalization)                                                 \n",
            "                                                                 \n",
            " conv2d_8 (Conv2D)           (None, 8, 12, 256)        131328    \n",
            "                                                                 \n",
            " leaky_re_lu_8 (LeakyReLU)   (None, 8, 12, 256)        0         \n",
            "                                                                 \n",
            " conv2d_9 (Conv2D)           (None, 8, 12, 256)        262400    \n",
            "                                                                 \n",
            " leaky_re_lu_9 (LeakyReLU)   (None, 8, 12, 256)        0         \n",
            "                                                                 \n",
            " max_pooling2d_4 (MaxPooling  (None, 4, 6, 256)        0         \n",
            " 2D)                                                             \n",
            "                                                                 \n",
            " batch_normalization_4 (Batc  (None, 4, 6, 256)        1024      \n",
            " hNormalization)                                                 \n",
            "                                                                 \n",
            " conv2d_10 (Conv2D)          (None, 4, 6, 256)         262400    \n",
            "                                                                 \n",
            " leaky_re_lu_10 (LeakyReLU)  (None, 4, 6, 256)         0         \n",
            "                                                                 \n",
            " conv2d_11 (Conv2D)          (None, 4, 6, 256)         262400    \n",
            "                                                                 \n",
            " leaky_re_lu_11 (LeakyReLU)  (None, 4, 6, 256)         0         \n",
            "                                                                 \n",
            " max_pooling2d_5 (MaxPooling  (None, 2, 3, 256)        0         \n",
            " 2D)                                                             \n",
            "                                                                 \n",
            " batch_normalization_5 (Batc  (None, 2, 3, 256)        1024      \n",
            " hNormalization)                                                 \n",
            "                                                                 \n",
            "=================================================================\n",
            "Total params: 1,049,024\n",
            "Trainable params: 1,047,552\n",
            "Non-trainable params: 1,472\n",
            "_________________________________________________________________\n",
            "None\n"
          ]
        }
      ],
      "source": [
        "# TEST CODE:\n",
        "\n",
        "test_convs, test_img_input = FCN8()\n",
        "test_model = tf.keras.Model(inputs=test_img_input, outputs=[test_convs, test_img_input])\n",
        "\n",
        "print(test_model.summary())\n",
        "\n",
        "del test_convs, test_img_input, test_model"
      ]
    },
    {
      "cell_type": "markdown",
      "metadata": {
        "id": "LbjYEQU8Eq-T"
      },
      "source": [
        "### Define the FCN-8 decoder"
      ]
    },
    {
      "cell_type": "markdown",
      "metadata": {
        "id": "Ux5nAU155E5O"
      },
      "source": [
        "<a name='exercise-3'></a>\n",
        "\n",
        "#### **Exercise 3**\n",
        "\n",
        "Now you can define the upsampling path taking the outputs of convolutions at each stage as arguments.\n",
        "* Note: remember to set the `data_format` parameter for the Conv2D layers. \n",
        "\n",
        "\n",
        "<img src='https://drive.google.com/uc?export=view&id=1lrqB4YegV8jXWNfyYAaeuFlwXIc54aRP' alt='fcn-8'>"
      ]
    },
    {
      "cell_type": "code",
      "execution_count": 12,
      "metadata": {
        "id": "giYEct_Se5Xj"
      },
      "outputs": [],
      "source": [
        "def fcn8_decoder(convs, n_classes):\n",
        "  # features from the encoder stage\n",
        "  f3, f4, f5 = convs\n",
        "\n",
        "  # number of filters\n",
        "  n = 512\n",
        "\n",
        "  # add convolutional layers on top of the CNN extractor.\n",
        "  o = tf.keras.layers.Conv2D(n , (7 , 7) , activation='relu' , padding='same', name=\"conv6\", data_format=IMAGE_ORDERING)(f5)\n",
        "  o = tf.keras.layers.Dropout(0.5)(o)\n",
        "\n",
        "  o = tf.keras.layers.Conv2D(n , (1 , 1) , activation='relu' , padding='same', name=\"conv7\", data_format=IMAGE_ORDERING)(o)\n",
        "  o = tf.keras.layers.Dropout(0.5)(o)\n",
        "\n",
        "  o = tf.keras.layers.Conv2D(n_classes,  (1, 1), activation='relu' , padding='same', data_format=IMAGE_ORDERING)(o)\n",
        "\n",
        "    \n",
        "\n",
        "\n",
        "  # Upsample `o` above and crop any extra pixels introduced\n",
        "  o = tf.keras.layers.Conv2DTranspose(n_classes , kernel_size=(4,4) ,  strides=(2,2))(o)\n",
        "  o = tf.keras.layers.Cropping2D(cropping=(1,1))(o)\n",
        "\n",
        "  # load the pool 4 prediction and do a 1x1 convolution to reshape it to the same shape of `o` above\n",
        "  o2 = f4\n",
        "  o2 = ( tf.keras.layers.Conv2D(n_classes , ( 1 , 1 ) , activation='relu' , padding='same'))(o2)\n",
        "\n",
        "  # add the results of the upsampling and pool 4 prediction\n",
        "  o = tf.keras.layers.Add()([o, o2])\n",
        "\n",
        "  # upsample the resulting tensor of the operation you just did\n",
        "  o =  (tf.keras.layers.Conv2DTranspose( n_classes , kernel_size=(4,4) ,  strides=(2,2)))(o)\n",
        "  o = tf.keras.layers.Cropping2D(cropping=(1, 1))(o)\n",
        "\n",
        "  # load the pool 3 prediction and do a 1x1 convolution to reshape it to the same shape of `o` above\n",
        "  o2 =  f3\n",
        "  o2 = tf.keras.layers.Conv2D(n_classes , ( 1 , 1 ) , activation='relu' , padding='same', data_format=IMAGE_ORDERING)(o2)\n",
        "\n",
        "  # add the results of the upsampling and pool 3 prediction\n",
        "  o = tf.keras.layers.Add()([o, o2])\n",
        "\n",
        "  # upsample up to the size of the original image\n",
        "  o = tf.keras.layers.Conv2DTranspose(n_classes , kernel_size=(8,8) ,  strides=(8,8))(o)\n",
        "  o = tf.keras.layers.Cropping2D(((0, 0), (0, 96-84)))(o)\n",
        "\n",
        "  # append a sigmoid activation\n",
        "  o = (tf.keras.layers.Activation('softmax'))(o)\n",
        "\n",
        "\n",
        "  return o"
      ]
    },
    {
      "cell_type": "code",
      "execution_count": 13,
      "metadata": {
        "colab": {
          "base_uri": "https://localhost:8080/"
        },
        "id": "lQHioDlR5K1_",
        "outputId": "d7676a3a-b4ea-4222-9a45-1766689a476c"
      },
      "outputs": [
        {
          "output_type": "stream",
          "name": "stdout",
          "text": [
            "(None, 64, 84, 11)\n"
          ]
        }
      ],
      "source": [
        "# TEST CODE\n",
        "\n",
        "test_convs, test_img_input = FCN8()\n",
        "test_fcn8_decoder = fcn8_decoder(test_convs, 11)\n",
        "\n",
        "print(test_fcn8_decoder.shape)\n",
        "\n",
        "del test_convs, test_img_input, test_fcn8_decoder"
      ]
    },
    {
      "cell_type": "markdown",
      "metadata": {
        "id": "C1qTwTX-5fwH"
      },
      "source": [
        "**Expected Output:**\n",
        "\n",
        "```txt\n",
        "(None, 64, 84, 11)\n",
        "```"
      ]
    },
    {
      "cell_type": "markdown",
      "metadata": {
        "id": "cJOhQz86Qk6n"
      },
      "source": [
        "### Define the Complete Model\n",
        "\n",
        "The downsampling and upsampling paths can now be combined as shown below."
      ]
    },
    {
      "cell_type": "code",
      "execution_count": 14,
      "metadata": {
        "id": "9EJEf484312h",
        "lines_to_next_cell": 2
      },
      "outputs": [],
      "source": [
        "# start the encoder using the default input size 64 x 84\n",
        "convs, img_input = FCN8()\n",
        "\n",
        "# pass the convolutions obtained in the encoder to the decoder\n",
        "dec_op = fcn8_decoder(convs, n_classes)\n",
        "\n",
        "# define the model specifying the input (batch of images) and output (decoder output)\n",
        "model = tf.keras.Model(inputs = img_input, outputs = dec_op)"
      ]
    },
    {
      "cell_type": "code",
      "execution_count": 15,
      "metadata": {
        "colab": {
          "base_uri": "https://localhost:8080/"
        },
        "id": "2GAenp1M4gXx",
        "outputId": "82d93e3b-adfd-4af9-dfe7-5f6695aee476"
      },
      "outputs": [
        {
          "output_type": "stream",
          "name": "stdout",
          "text": [
            "Model: \"model_2\"\n",
            "__________________________________________________________________________________________________\n",
            " Layer (type)                   Output Shape         Param #     Connected to                     \n",
            "==================================================================================================\n",
            " input_4 (InputLayer)           [(None, 64, 84, 1)]  0           []                               \n",
            "                                                                                                  \n",
            " zero_padding2d_2 (ZeroPadding2  (None, 64, 96, 1)   0           ['input_4[0][0]']                \n",
            " D)                                                                                               \n",
            "                                                                                                  \n",
            " conv2d_25 (Conv2D)             (None, 64, 96, 32)   160         ['zero_padding2d_2[0][0]']       \n",
            "                                                                                                  \n",
            " leaky_re_lu_22 (LeakyReLU)     (None, 64, 96, 32)   0           ['conv2d_25[0][0]']              \n",
            "                                                                                                  \n",
            " conv2d_26 (Conv2D)             (None, 64, 96, 32)   4128        ['leaky_re_lu_22[0][0]']         \n",
            "                                                                                                  \n",
            " leaky_re_lu_23 (LeakyReLU)     (None, 64, 96, 32)   0           ['conv2d_26[0][0]']              \n",
            "                                                                                                  \n",
            " max_pooling2d_11 (MaxPooling2D  (None, 32, 48, 32)  0           ['leaky_re_lu_23[0][0]']         \n",
            " )                                                                                                \n",
            "                                                                                                  \n",
            " batch_normalization_11 (BatchN  (None, 32, 48, 32)  128         ['max_pooling2d_11[0][0]']       \n",
            " ormalization)                                                                                    \n",
            "                                                                                                  \n",
            " conv2d_27 (Conv2D)             (None, 32, 48, 64)   8256        ['batch_normalization_11[0][0]'] \n",
            "                                                                                                  \n",
            " leaky_re_lu_24 (LeakyReLU)     (None, 32, 48, 64)   0           ['conv2d_27[0][0]']              \n",
            "                                                                                                  \n",
            " conv2d_28 (Conv2D)             (None, 32, 48, 64)   16448       ['leaky_re_lu_24[0][0]']         \n",
            "                                                                                                  \n",
            " leaky_re_lu_25 (LeakyReLU)     (None, 32, 48, 64)   0           ['conv2d_28[0][0]']              \n",
            "                                                                                                  \n",
            " max_pooling2d_12 (MaxPooling2D  (None, 16, 24, 64)  0           ['leaky_re_lu_25[0][0]']         \n",
            " )                                                                                                \n",
            "                                                                                                  \n",
            " batch_normalization_12 (BatchN  (None, 16, 24, 64)  256         ['max_pooling2d_12[0][0]']       \n",
            " ormalization)                                                                                    \n",
            "                                                                                                  \n",
            " conv2d_29 (Conv2D)             (None, 16, 24, 128)  32896       ['batch_normalization_12[0][0]'] \n",
            "                                                                                                  \n",
            " leaky_re_lu_26 (LeakyReLU)     (None, 16, 24, 128)  0           ['conv2d_29[0][0]']              \n",
            "                                                                                                  \n",
            " conv2d_30 (Conv2D)             (None, 16, 24, 128)  65664       ['leaky_re_lu_26[0][0]']         \n",
            "                                                                                                  \n",
            " leaky_re_lu_27 (LeakyReLU)     (None, 16, 24, 128)  0           ['conv2d_30[0][0]']              \n",
            "                                                                                                  \n",
            " max_pooling2d_13 (MaxPooling2D  (None, 8, 12, 128)  0           ['leaky_re_lu_27[0][0]']         \n",
            " )                                                                                                \n",
            "                                                                                                  \n",
            " batch_normalization_13 (BatchN  (None, 8, 12, 128)  512         ['max_pooling2d_13[0][0]']       \n",
            " ormalization)                                                                                    \n",
            "                                                                                                  \n",
            " conv2d_31 (Conv2D)             (None, 8, 12, 256)   131328      ['batch_normalization_13[0][0]'] \n",
            "                                                                                                  \n",
            " leaky_re_lu_28 (LeakyReLU)     (None, 8, 12, 256)   0           ['conv2d_31[0][0]']              \n",
            "                                                                                                  \n",
            " conv2d_32 (Conv2D)             (None, 8, 12, 256)   262400      ['leaky_re_lu_28[0][0]']         \n",
            "                                                                                                  \n",
            " leaky_re_lu_29 (LeakyReLU)     (None, 8, 12, 256)   0           ['conv2d_32[0][0]']              \n",
            "                                                                                                  \n",
            " max_pooling2d_14 (MaxPooling2D  (None, 4, 6, 256)   0           ['leaky_re_lu_29[0][0]']         \n",
            " )                                                                                                \n",
            "                                                                                                  \n",
            " batch_normalization_14 (BatchN  (None, 4, 6, 256)   1024        ['max_pooling2d_14[0][0]']       \n",
            " ormalization)                                                                                    \n",
            "                                                                                                  \n",
            " conv2d_33 (Conv2D)             (None, 4, 6, 256)    262400      ['batch_normalization_14[0][0]'] \n",
            "                                                                                                  \n",
            " leaky_re_lu_30 (LeakyReLU)     (None, 4, 6, 256)    0           ['conv2d_33[0][0]']              \n",
            "                                                                                                  \n",
            " conv2d_34 (Conv2D)             (None, 4, 6, 256)    262400      ['leaky_re_lu_30[0][0]']         \n",
            "                                                                                                  \n",
            " leaky_re_lu_31 (LeakyReLU)     (None, 4, 6, 256)    0           ['conv2d_34[0][0]']              \n",
            "                                                                                                  \n",
            " max_pooling2d_15 (MaxPooling2D  (None, 2, 3, 256)   0           ['leaky_re_lu_31[0][0]']         \n",
            " )                                                                                                \n",
            "                                                                                                  \n",
            " batch_normalization_15 (BatchN  (None, 2, 3, 256)   1024        ['max_pooling2d_15[0][0]']       \n",
            " ormalization)                                                                                    \n",
            "                                                                                                  \n",
            " conv6 (Conv2D)                 (None, 2, 3, 512)    6423040     ['batch_normalization_15[0][0]'] \n",
            "                                                                                                  \n",
            " dropout_2 (Dropout)            (None, 2, 3, 512)    0           ['conv6[0][0]']                  \n",
            "                                                                                                  \n",
            " conv7 (Conv2D)                 (None, 2, 3, 512)    262656      ['dropout_2[0][0]']              \n",
            "                                                                                                  \n",
            " dropout_3 (Dropout)            (None, 2, 3, 512)    0           ['conv7[0][0]']                  \n",
            "                                                                                                  \n",
            " conv2d_35 (Conv2D)             (None, 2, 3, 11)     5643        ['dropout_3[0][0]']              \n",
            "                                                                                                  \n",
            " conv2d_transpose_3 (Conv2DTran  (None, 6, 8, 11)    1947        ['conv2d_35[0][0]']              \n",
            " spose)                                                                                           \n",
            "                                                                                                  \n",
            " cropping2d_3 (Cropping2D)      (None, 4, 6, 11)     0           ['conv2d_transpose_3[0][0]']     \n",
            "                                                                                                  \n",
            " conv2d_36 (Conv2D)             (None, 4, 6, 11)     2827        ['batch_normalization_14[0][0]'] \n",
            "                                                                                                  \n",
            " add_2 (Add)                    (None, 4, 6, 11)     0           ['cropping2d_3[0][0]',           \n",
            "                                                                  'conv2d_36[0][0]']              \n",
            "                                                                                                  \n",
            " conv2d_transpose_4 (Conv2DTran  (None, 10, 14, 11)  1947        ['add_2[0][0]']                  \n",
            " spose)                                                                                           \n",
            "                                                                                                  \n",
            " cropping2d_4 (Cropping2D)      (None, 8, 12, 11)    0           ['conv2d_transpose_4[0][0]']     \n",
            "                                                                                                  \n",
            " conv2d_37 (Conv2D)             (None, 8, 12, 11)    1419        ['batch_normalization_13[0][0]'] \n",
            "                                                                                                  \n",
            " add_3 (Add)                    (None, 8, 12, 11)    0           ['cropping2d_4[0][0]',           \n",
            "                                                                  'conv2d_37[0][0]']              \n",
            "                                                                                                  \n",
            " conv2d_transpose_5 (Conv2DTran  (None, 64, 96, 11)  7755        ['add_3[0][0]']                  \n",
            " spose)                                                                                           \n",
            "                                                                                                  \n",
            " cropping2d_5 (Cropping2D)      (None, 64, 84, 11)   0           ['conv2d_transpose_5[0][0]']     \n",
            "                                                                                                  \n",
            " activation_1 (Activation)      (None, 64, 84, 11)   0           ['cropping2d_5[0][0]']           \n",
            "                                                                                                  \n",
            "==================================================================================================\n",
            "Total params: 7,756,258\n",
            "Trainable params: 7,754,786\n",
            "Non-trainable params: 1,472\n",
            "__________________________________________________________________________________________________\n"
          ]
        }
      ],
      "source": [
        "model.summary()"
      ]
    },
    {
      "cell_type": "markdown",
      "metadata": {
        "id": "wAAXygZtbZmu"
      },
      "source": [
        "## Compile the Model"
      ]
    },
    {
      "cell_type": "code",
      "execution_count": 16,
      "metadata": {
        "colab": {
          "base_uri": "https://localhost:8080/"
        },
        "id": "ZpWpp8h4g_rE",
        "outputId": "53aa1aae-f8a6-4621-9581-9b8c982d4ad1"
      },
      "outputs": [
        {
          "output_type": "stream",
          "name": "stderr",
          "text": [
            "WARNING:absl:`lr` is deprecated in Keras optimizer, please use `learning_rate` or use the legacy optimizer, e.g.,tf.keras.optimizers.legacy.SGD.\n"
          ]
        }
      ],
      "source": [
        "\n",
        "model.compile(loss='categorical_crossentropy', optimizer=tf.keras.optimizers.SGD(lr=1E-2, momentum=0.9, nesterov=True), \n",
        "              metrics=['accuracy'])\n"
      ]
    },
    {
      "cell_type": "markdown",
      "metadata": {
        "id": "510v0aVDXv1f"
      },
      "source": [
        "## Model Training"
      ]
    },
    {
      "cell_type": "code",
      "execution_count": 17,
      "metadata": {
        "colab": {
          "base_uri": "https://localhost:8080/"
        },
        "id": "8HoZwpGWhMB-",
        "outputId": "4836b212-d5c5-4411-e386-fc8a1dc2ce15"
      },
      "outputs": [
        {
          "output_type": "stream",
          "name": "stdout",
          "text": [
            "Epoch 1/250\n",
            "125/125 [==============================] - 21s 53ms/step - loss: 0.7255 - accuracy: 0.9029 - val_loss: 0.3740 - val_accuracy: 0.9430\n",
            "Epoch 2/250\n",
            "125/125 [==============================] - 6s 45ms/step - loss: 0.2758 - accuracy: 0.9424 - val_loss: 0.3274 - val_accuracy: 0.9430\n",
            "Epoch 3/250\n",
            "125/125 [==============================] - 5s 44ms/step - loss: 0.2519 - accuracy: 0.9424 - val_loss: 0.2938 - val_accuracy: 0.9430\n",
            "Epoch 4/250\n",
            "125/125 [==============================] - 6s 47ms/step - loss: 0.2406 - accuracy: 0.9424 - val_loss: 0.2585 - val_accuracy: 0.9430\n",
            "Epoch 5/250\n",
            "125/125 [==============================] - 5s 43ms/step - loss: 0.2350 - accuracy: 0.9424 - val_loss: 0.2375 - val_accuracy: 0.9430\n",
            "Epoch 6/250\n",
            "125/125 [==============================] - 7s 54ms/step - loss: 0.2312 - accuracy: 0.9424 - val_loss: 0.2295 - val_accuracy: 0.9430\n",
            "Epoch 7/250\n",
            "125/125 [==============================] - 5s 43ms/step - loss: 0.2282 - accuracy: 0.9424 - val_loss: 0.2258 - val_accuracy: 0.9430\n",
            "Epoch 8/250\n",
            "125/125 [==============================] - 6s 47ms/step - loss: 0.2256 - accuracy: 0.9424 - val_loss: 0.2230 - val_accuracy: 0.9429\n",
            "Epoch 9/250\n",
            "125/125 [==============================] - 5s 43ms/step - loss: 0.2231 - accuracy: 0.9424 - val_loss: 0.2205 - val_accuracy: 0.9429\n",
            "Epoch 10/250\n",
            "125/125 [==============================] - 6s 47ms/step - loss: 0.2207 - accuracy: 0.9424 - val_loss: 0.2181 - val_accuracy: 0.9429\n",
            "Epoch 11/250\n",
            "125/125 [==============================] - 5s 43ms/step - loss: 0.2183 - accuracy: 0.9424 - val_loss: 0.2157 - val_accuracy: 0.9429\n",
            "Epoch 12/250\n",
            "125/125 [==============================] - 6s 46ms/step - loss: 0.2159 - accuracy: 0.9424 - val_loss: 0.2133 - val_accuracy: 0.9430\n",
            "Epoch 13/250\n",
            "125/125 [==============================] - 5s 44ms/step - loss: 0.2136 - accuracy: 0.9424 - val_loss: 0.2110 - val_accuracy: 0.9430\n",
            "Epoch 14/250\n",
            "125/125 [==============================] - 6s 46ms/step - loss: 0.2113 - accuracy: 0.9424 - val_loss: 0.2088 - val_accuracy: 0.9430\n",
            "Epoch 15/250\n",
            "125/125 [==============================] - 6s 45ms/step - loss: 0.2091 - accuracy: 0.9425 - val_loss: 0.2066 - val_accuracy: 0.9430\n",
            "Epoch 16/250\n",
            "125/125 [==============================] - 6s 45ms/step - loss: 0.2069 - accuracy: 0.9425 - val_loss: 0.2047 - val_accuracy: 0.9429\n",
            "Epoch 17/250\n",
            "125/125 [==============================] - 6s 47ms/step - loss: 0.2048 - accuracy: 0.9425 - val_loss: 0.2025 - val_accuracy: 0.9430\n",
            "Epoch 18/250\n",
            "125/125 [==============================] - 6s 44ms/step - loss: 0.2029 - accuracy: 0.9425 - val_loss: 0.2006 - val_accuracy: 0.9430\n",
            "Epoch 19/250\n",
            "125/125 [==============================] - 6s 48ms/step - loss: 0.2010 - accuracy: 0.9425 - val_loss: 0.1991 - val_accuracy: 0.9430\n",
            "Epoch 20/250\n",
            "125/125 [==============================] - 6s 45ms/step - loss: 0.1994 - accuracy: 0.9425 - val_loss: 0.1975 - val_accuracy: 0.9430\n",
            "Epoch 21/250\n",
            "125/125 [==============================] - 6s 48ms/step - loss: 0.1978 - accuracy: 0.9425 - val_loss: 0.1961 - val_accuracy: 0.9430\n",
            "Epoch 22/250\n",
            "125/125 [==============================] - 6s 45ms/step - loss: 0.1965 - accuracy: 0.9425 - val_loss: 0.1948 - val_accuracy: 0.9430\n",
            "Epoch 23/250\n",
            "125/125 [==============================] - 6s 49ms/step - loss: 0.1952 - accuracy: 0.9425 - val_loss: 0.1935 - val_accuracy: 0.9431\n",
            "Epoch 24/250\n",
            "125/125 [==============================] - 6s 45ms/step - loss: 0.1941 - accuracy: 0.9426 - val_loss: 0.1924 - val_accuracy: 0.9431\n",
            "Epoch 25/250\n",
            "125/125 [==============================] - 6s 48ms/step - loss: 0.1931 - accuracy: 0.9426 - val_loss: 0.1914 - val_accuracy: 0.9431\n",
            "Epoch 26/250\n",
            "125/125 [==============================] - 5s 44ms/step - loss: 0.1921 - accuracy: 0.9426 - val_loss: 0.1905 - val_accuracy: 0.9431\n",
            "Epoch 27/250\n",
            "125/125 [==============================] - 6s 47ms/step - loss: 0.1912 - accuracy: 0.9427 - val_loss: 0.1896 - val_accuracy: 0.9432\n",
            "Epoch 28/250\n",
            "125/125 [==============================] - 5s 44ms/step - loss: 0.1904 - accuracy: 0.9427 - val_loss: 0.1889 - val_accuracy: 0.9432\n",
            "Epoch 29/250\n",
            "125/125 [==============================] - 6s 46ms/step - loss: 0.1897 - accuracy: 0.9428 - val_loss: 0.1883 - val_accuracy: 0.9433\n",
            "Epoch 30/250\n",
            "125/125 [==============================] - 6s 44ms/step - loss: 0.1889 - accuracy: 0.9428 - val_loss: 0.1878 - val_accuracy: 0.9434\n",
            "Epoch 31/250\n",
            "125/125 [==============================] - 6s 45ms/step - loss: 0.1882 - accuracy: 0.9429 - val_loss: 0.1870 - val_accuracy: 0.9434\n",
            "Epoch 32/250\n",
            "125/125 [==============================] - 6s 46ms/step - loss: 0.1876 - accuracy: 0.9429 - val_loss: 0.1864 - val_accuracy: 0.9435\n",
            "Epoch 33/250\n",
            "125/125 [==============================] - 5s 44ms/step - loss: 0.1870 - accuracy: 0.9430 - val_loss: 0.1856 - val_accuracy: 0.9435\n",
            "Epoch 34/250\n",
            "125/125 [==============================] - 6s 47ms/step - loss: 0.1864 - accuracy: 0.9431 - val_loss: 0.1850 - val_accuracy: 0.9436\n",
            "Epoch 35/250\n",
            "125/125 [==============================] - 6s 44ms/step - loss: 0.1858 - accuracy: 0.9432 - val_loss: 0.1845 - val_accuracy: 0.9437\n",
            "Epoch 36/250\n",
            "125/125 [==============================] - 6s 47ms/step - loss: 0.1853 - accuracy: 0.9432 - val_loss: 0.1839 - val_accuracy: 0.9438\n",
            "Epoch 37/250\n",
            "125/125 [==============================] - 6s 44ms/step - loss: 0.1847 - accuracy: 0.9433 - val_loss: 0.1837 - val_accuracy: 0.9438\n",
            "Epoch 38/250\n",
            "125/125 [==============================] - 6s 47ms/step - loss: 0.1842 - accuracy: 0.9434 - val_loss: 0.1830 - val_accuracy: 0.9439\n",
            "Epoch 39/250\n",
            "125/125 [==============================] - 6s 44ms/step - loss: 0.1837 - accuracy: 0.9435 - val_loss: 0.1827 - val_accuracy: 0.9440\n",
            "Epoch 40/250\n",
            "125/125 [==============================] - 6s 48ms/step - loss: 0.1831 - accuracy: 0.9436 - val_loss: 0.1819 - val_accuracy: 0.9441\n",
            "Epoch 41/250\n",
            "125/125 [==============================] - 6s 44ms/step - loss: 0.1826 - accuracy: 0.9437 - val_loss: 0.1818 - val_accuracy: 0.9442\n",
            "Epoch 42/250\n",
            "125/125 [==============================] - 6s 46ms/step - loss: 0.1821 - accuracy: 0.9438 - val_loss: 0.1811 - val_accuracy: 0.9443\n",
            "Epoch 43/250\n",
            "125/125 [==============================] - 6s 44ms/step - loss: 0.1816 - accuracy: 0.9438 - val_loss: 0.1804 - val_accuracy: 0.9444\n",
            "Epoch 44/250\n",
            "125/125 [==============================] - 6s 46ms/step - loss: 0.1811 - accuracy: 0.9440 - val_loss: 0.1799 - val_accuracy: 0.9444\n",
            "Epoch 45/250\n",
            "125/125 [==============================] - 6s 45ms/step - loss: 0.1806 - accuracy: 0.9441 - val_loss: 0.1795 - val_accuracy: 0.9446\n",
            "Epoch 46/250\n",
            "125/125 [==============================] - 6s 45ms/step - loss: 0.1800 - accuracy: 0.9442 - val_loss: 0.1790 - val_accuracy: 0.9446\n",
            "Epoch 47/250\n",
            "125/125 [==============================] - 6s 46ms/step - loss: 0.1795 - accuracy: 0.9443 - val_loss: 0.1787 - val_accuracy: 0.9447\n",
            "Epoch 48/250\n",
            "125/125 [==============================] - 6s 44ms/step - loss: 0.1789 - accuracy: 0.9444 - val_loss: 0.1779 - val_accuracy: 0.9448\n",
            "Epoch 49/250\n",
            "125/125 [==============================] - 6s 48ms/step - loss: 0.1784 - accuracy: 0.9445 - val_loss: 0.1776 - val_accuracy: 0.9449\n",
            "Epoch 50/250\n",
            "125/125 [==============================] - 6s 45ms/step - loss: 0.1778 - accuracy: 0.9446 - val_loss: 0.1767 - val_accuracy: 0.9450\n",
            "Epoch 51/250\n",
            "125/125 [==============================] - 6s 51ms/step - loss: 0.1772 - accuracy: 0.9447 - val_loss: 0.1764 - val_accuracy: 0.9452\n",
            "Epoch 52/250\n",
            "125/125 [==============================] - 6s 45ms/step - loss: 0.1766 - accuracy: 0.9448 - val_loss: 0.1762 - val_accuracy: 0.9452\n",
            "Epoch 53/250\n",
            "125/125 [==============================] - 6s 50ms/step - loss: 0.1759 - accuracy: 0.9450 - val_loss: 0.1751 - val_accuracy: 0.9453\n",
            "Epoch 54/250\n",
            "125/125 [==============================] - 6s 45ms/step - loss: 0.1752 - accuracy: 0.9451 - val_loss: 0.1742 - val_accuracy: 0.9455\n",
            "Epoch 55/250\n",
            "125/125 [==============================] - 6s 48ms/step - loss: 0.1745 - accuracy: 0.9452 - val_loss: 0.1734 - val_accuracy: 0.9456\n",
            "Epoch 56/250\n",
            "125/125 [==============================] - 6s 45ms/step - loss: 0.1737 - accuracy: 0.9454 - val_loss: 0.1725 - val_accuracy: 0.9457\n",
            "Epoch 57/250\n",
            "125/125 [==============================] - 6s 47ms/step - loss: 0.1729 - accuracy: 0.9455 - val_loss: 0.1719 - val_accuracy: 0.9459\n",
            "Epoch 58/250\n",
            "125/125 [==============================] - 6s 44ms/step - loss: 0.1719 - accuracy: 0.9457 - val_loss: 0.1716 - val_accuracy: 0.9459\n",
            "Epoch 59/250\n",
            "125/125 [==============================] - 6s 47ms/step - loss: 0.1710 - accuracy: 0.9458 - val_loss: 0.1698 - val_accuracy: 0.9461\n",
            "Epoch 60/250\n",
            "125/125 [==============================] - 6s 44ms/step - loss: 0.1700 - accuracy: 0.9460 - val_loss: 0.1690 - val_accuracy: 0.9463\n",
            "Epoch 61/250\n",
            "125/125 [==============================] - 6s 48ms/step - loss: 0.1690 - accuracy: 0.9461 - val_loss: 0.1682 - val_accuracy: 0.9465\n",
            "Epoch 62/250\n",
            "125/125 [==============================] - 6s 45ms/step - loss: 0.1679 - accuracy: 0.9463 - val_loss: 0.1670 - val_accuracy: 0.9466\n",
            "Epoch 63/250\n",
            "125/125 [==============================] - 6s 47ms/step - loss: 0.1668 - accuracy: 0.9465 - val_loss: 0.1669 - val_accuracy: 0.9465\n",
            "Epoch 64/250\n",
            "125/125 [==============================] - 6s 48ms/step - loss: 0.1656 - accuracy: 0.9467 - val_loss: 0.1662 - val_accuracy: 0.9467\n",
            "Epoch 65/250\n",
            "125/125 [==============================] - 6s 48ms/step - loss: 0.1642 - accuracy: 0.9469 - val_loss: 0.1630 - val_accuracy: 0.9471\n",
            "Epoch 66/250\n",
            "125/125 [==============================] - 6s 46ms/step - loss: 0.1629 - accuracy: 0.9471 - val_loss: 0.1616 - val_accuracy: 0.9475\n",
            "Epoch 67/250\n",
            "125/125 [==============================] - 6s 46ms/step - loss: 0.1615 - accuracy: 0.9473 - val_loss: 0.1602 - val_accuracy: 0.9475\n",
            "Epoch 68/250\n",
            "125/125 [==============================] - 6s 47ms/step - loss: 0.1600 - accuracy: 0.9475 - val_loss: 0.1600 - val_accuracy: 0.9473\n",
            "Epoch 69/250\n",
            "125/125 [==============================] - 6s 45ms/step - loss: 0.1585 - accuracy: 0.9477 - val_loss: 0.1578 - val_accuracy: 0.9477\n",
            "Epoch 70/250\n",
            "125/125 [==============================] - 6s 48ms/step - loss: 0.1570 - accuracy: 0.9479 - val_loss: 0.1578 - val_accuracy: 0.9476\n",
            "Epoch 71/250\n",
            "125/125 [==============================] - 6s 45ms/step - loss: 0.1555 - accuracy: 0.9482 - val_loss: 0.1550 - val_accuracy: 0.9482\n",
            "Epoch 72/250\n",
            "125/125 [==============================] - 6s 48ms/step - loss: 0.1540 - accuracy: 0.9484 - val_loss: 0.1526 - val_accuracy: 0.9489\n",
            "Epoch 73/250\n",
            "125/125 [==============================] - 6s 45ms/step - loss: 0.1524 - accuracy: 0.9487 - val_loss: 0.1562 - val_accuracy: 0.9477\n",
            "Epoch 74/250\n",
            "125/125 [==============================] - 6s 48ms/step - loss: 0.1510 - accuracy: 0.9489 - val_loss: 0.1501 - val_accuracy: 0.9491\n",
            "Epoch 75/250\n",
            "125/125 [==============================] - 6s 45ms/step - loss: 0.1497 - accuracy: 0.9492 - val_loss: 0.1490 - val_accuracy: 0.9496\n",
            "Epoch 76/250\n",
            "125/125 [==============================] - 6s 48ms/step - loss: 0.1483 - accuracy: 0.9495 - val_loss: 0.1501 - val_accuracy: 0.9489\n",
            "Epoch 77/250\n",
            "125/125 [==============================] - 6s 44ms/step - loss: 0.1472 - accuracy: 0.9497 - val_loss: 0.1477 - val_accuracy: 0.9499\n",
            "Epoch 78/250\n",
            "125/125 [==============================] - 6s 47ms/step - loss: 0.1460 - accuracy: 0.9500 - val_loss: 0.1490 - val_accuracy: 0.9495\n",
            "Epoch 79/250\n",
            "125/125 [==============================] - 6s 44ms/step - loss: 0.1450 - accuracy: 0.9502 - val_loss: 0.1504 - val_accuracy: 0.9492\n",
            "Epoch 80/250\n",
            "125/125 [==============================] - 6s 50ms/step - loss: 0.1439 - accuracy: 0.9505 - val_loss: 0.1443 - val_accuracy: 0.9506\n",
            "Epoch 81/250\n",
            "125/125 [==============================] - 6s 44ms/step - loss: 0.1430 - accuracy: 0.9507 - val_loss: 0.1429 - val_accuracy: 0.9506\n",
            "Epoch 82/250\n",
            "125/125 [==============================] - 6s 47ms/step - loss: 0.1419 - accuracy: 0.9510 - val_loss: 0.1428 - val_accuracy: 0.9509\n",
            "Epoch 83/250\n",
            "125/125 [==============================] - 6s 45ms/step - loss: 0.1411 - accuracy: 0.9512 - val_loss: 0.1461 - val_accuracy: 0.9500\n",
            "Epoch 84/250\n",
            "125/125 [==============================] - 6s 48ms/step - loss: 0.1401 - accuracy: 0.9515 - val_loss: 0.1404 - val_accuracy: 0.9513\n",
            "Epoch 85/250\n",
            "125/125 [==============================] - 6s 46ms/step - loss: 0.1393 - accuracy: 0.9517 - val_loss: 0.1425 - val_accuracy: 0.9512\n",
            "Epoch 86/250\n",
            "125/125 [==============================] - 6s 48ms/step - loss: 0.1385 - accuracy: 0.9520 - val_loss: 0.1390 - val_accuracy: 0.9519\n",
            "Epoch 87/250\n",
            "125/125 [==============================] - 6s 46ms/step - loss: 0.1375 - accuracy: 0.9522 - val_loss: 0.1387 - val_accuracy: 0.9520\n",
            "Epoch 88/250\n",
            "125/125 [==============================] - 6s 45ms/step - loss: 0.1367 - accuracy: 0.9524 - val_loss: 0.1383 - val_accuracy: 0.9521\n",
            "Epoch 89/250\n",
            "125/125 [==============================] - 6s 47ms/step - loss: 0.1358 - accuracy: 0.9527 - val_loss: 0.1405 - val_accuracy: 0.9517\n",
            "Epoch 90/250\n",
            "125/125 [==============================] - 6s 45ms/step - loss: 0.1350 - accuracy: 0.9529 - val_loss: 0.1410 - val_accuracy: 0.9515\n",
            "Epoch 91/250\n",
            "125/125 [==============================] - 6s 47ms/step - loss: 0.1341 - accuracy: 0.9533 - val_loss: 0.1347 - val_accuracy: 0.9533\n",
            "Epoch 92/250\n",
            "125/125 [==============================] - 6s 45ms/step - loss: 0.1334 - accuracy: 0.9534 - val_loss: 0.1339 - val_accuracy: 0.9535\n",
            "Epoch 93/250\n",
            "125/125 [==============================] - 6s 48ms/step - loss: 0.1323 - accuracy: 0.9538 - val_loss: 0.1335 - val_accuracy: 0.9535\n",
            "Epoch 94/250\n",
            "125/125 [==============================] - 6s 45ms/step - loss: 0.1316 - accuracy: 0.9540 - val_loss: 0.1323 - val_accuracy: 0.9540\n",
            "Epoch 95/250\n",
            "125/125 [==============================] - 6s 50ms/step - loss: 0.1307 - accuracy: 0.9543 - val_loss: 0.1318 - val_accuracy: 0.9541\n",
            "Epoch 96/250\n",
            "125/125 [==============================] - 6s 45ms/step - loss: 0.1299 - accuracy: 0.9546 - val_loss: 0.1363 - val_accuracy: 0.9526\n",
            "Epoch 97/250\n",
            "125/125 [==============================] - 6s 48ms/step - loss: 0.1288 - accuracy: 0.9549 - val_loss: 0.1388 - val_accuracy: 0.9520\n",
            "Epoch 98/250\n",
            "125/125 [==============================] - 6s 45ms/step - loss: 0.1279 - accuracy: 0.9552 - val_loss: 0.1291 - val_accuracy: 0.9548\n",
            "Epoch 99/250\n",
            "125/125 [==============================] - 6s 48ms/step - loss: 0.1270 - accuracy: 0.9555 - val_loss: 0.1343 - val_accuracy: 0.9537\n",
            "Epoch 100/250\n",
            "125/125 [==============================] - 6s 44ms/step - loss: 0.1259 - accuracy: 0.9559 - val_loss: 0.1280 - val_accuracy: 0.9557\n",
            "Epoch 101/250\n",
            "125/125 [==============================] - 6s 46ms/step - loss: 0.1250 - accuracy: 0.9562 - val_loss: 0.1290 - val_accuracy: 0.9550\n",
            "Epoch 102/250\n",
            "125/125 [==============================] - 6s 45ms/step - loss: 0.1238 - accuracy: 0.9566 - val_loss: 0.1287 - val_accuracy: 0.9550\n",
            "Epoch 103/250\n",
            "125/125 [==============================] - 6s 48ms/step - loss: 0.1227 - accuracy: 0.9569 - val_loss: 0.1356 - val_accuracy: 0.9535\n",
            "Epoch 104/250\n",
            "125/125 [==============================] - 6s 44ms/step - loss: 0.1215 - accuracy: 0.9573 - val_loss: 0.1250 - val_accuracy: 0.9566\n",
            "Epoch 105/250\n",
            "125/125 [==============================] - 6s 45ms/step - loss: 0.1202 - accuracy: 0.9578 - val_loss: 0.1229 - val_accuracy: 0.9572\n",
            "Epoch 106/250\n",
            "125/125 [==============================] - 6s 46ms/step - loss: 0.1189 - accuracy: 0.9582 - val_loss: 0.1214 - val_accuracy: 0.9577\n",
            "Epoch 107/250\n",
            "125/125 [==============================] - 5s 44ms/step - loss: 0.1172 - accuracy: 0.9588 - val_loss: 0.1194 - val_accuracy: 0.9583\n",
            "Epoch 108/250\n",
            "125/125 [==============================] - 6s 47ms/step - loss: 0.1158 - accuracy: 0.9593 - val_loss: 0.1194 - val_accuracy: 0.9583\n",
            "Epoch 109/250\n",
            "125/125 [==============================] - 5s 44ms/step - loss: 0.1144 - accuracy: 0.9597 - val_loss: 0.1189 - val_accuracy: 0.9580\n",
            "Epoch 110/250\n",
            "125/125 [==============================] - 6s 47ms/step - loss: 0.1128 - accuracy: 0.9603 - val_loss: 0.1159 - val_accuracy: 0.9594\n",
            "Epoch 111/250\n",
            "125/125 [==============================] - 6s 44ms/step - loss: 0.1109 - accuracy: 0.9609 - val_loss: 0.1161 - val_accuracy: 0.9597\n",
            "Epoch 112/250\n",
            "125/125 [==============================] - 6s 47ms/step - loss: 0.1091 - accuracy: 0.9615 - val_loss: 0.1131 - val_accuracy: 0.9606\n",
            "Epoch 113/250\n",
            "125/125 [==============================] - 6s 44ms/step - loss: 0.1075 - accuracy: 0.9621 - val_loss: 0.1113 - val_accuracy: 0.9610\n",
            "Epoch 114/250\n",
            "125/125 [==============================] - 6s 48ms/step - loss: 0.1056 - accuracy: 0.9628 - val_loss: 0.1117 - val_accuracy: 0.9615\n",
            "Epoch 115/250\n",
            "125/125 [==============================] - 6s 44ms/step - loss: 0.1041 - accuracy: 0.9633 - val_loss: 0.1155 - val_accuracy: 0.9596\n",
            "Epoch 116/250\n",
            "125/125 [==============================] - 6s 49ms/step - loss: 0.1024 - accuracy: 0.9639 - val_loss: 0.1183 - val_accuracy: 0.9587\n",
            "Epoch 117/250\n",
            "125/125 [==============================] - 6s 44ms/step - loss: 0.1009 - accuracy: 0.9644 - val_loss: 0.1068 - val_accuracy: 0.9627\n",
            "Epoch 118/250\n",
            "125/125 [==============================] - 6s 47ms/step - loss: 0.0995 - accuracy: 0.9650 - val_loss: 0.1092 - val_accuracy: 0.9615\n",
            "Epoch 119/250\n",
            "125/125 [==============================] - 6s 44ms/step - loss: 0.0979 - accuracy: 0.9656 - val_loss: 0.1040 - val_accuracy: 0.9643\n",
            "Epoch 120/250\n",
            "125/125 [==============================] - 6s 47ms/step - loss: 0.0967 - accuracy: 0.9660 - val_loss: 0.1027 - val_accuracy: 0.9648\n",
            "Epoch 121/250\n",
            "125/125 [==============================] - 6s 45ms/step - loss: 0.0956 - accuracy: 0.9665 - val_loss: 0.1075 - val_accuracy: 0.9626\n",
            "Epoch 122/250\n",
            "125/125 [==============================] - 6s 44ms/step - loss: 0.0937 - accuracy: 0.9672 - val_loss: 0.1055 - val_accuracy: 0.9630\n",
            "Epoch 123/250\n",
            "125/125 [==============================] - 6s 47ms/step - loss: 0.0922 - accuracy: 0.9677 - val_loss: 0.1000 - val_accuracy: 0.9657\n",
            "Epoch 124/250\n",
            "125/125 [==============================] - 5s 44ms/step - loss: 0.0910 - accuracy: 0.9683 - val_loss: 0.0986 - val_accuracy: 0.9666\n",
            "Epoch 125/250\n",
            "125/125 [==============================] - 6s 47ms/step - loss: 0.0895 - accuracy: 0.9688 - val_loss: 0.1127 - val_accuracy: 0.9612\n",
            "Epoch 126/250\n",
            "125/125 [==============================] - 6s 44ms/step - loss: 0.0886 - accuracy: 0.9690 - val_loss: 0.1041 - val_accuracy: 0.9647\n",
            "Epoch 127/250\n",
            "125/125 [==============================] - 6s 47ms/step - loss: 0.0874 - accuracy: 0.9693 - val_loss: 0.0976 - val_accuracy: 0.9667\n",
            "Epoch 128/250\n",
            "125/125 [==============================] - 6s 44ms/step - loss: 0.0855 - accuracy: 0.9702 - val_loss: 0.1003 - val_accuracy: 0.9655\n",
            "Epoch 129/250\n",
            "125/125 [==============================] - 6s 47ms/step - loss: 0.0844 - accuracy: 0.9705 - val_loss: 0.0940 - val_accuracy: 0.9676\n",
            "Epoch 130/250\n",
            "125/125 [==============================] - 6s 44ms/step - loss: 0.0834 - accuracy: 0.9707 - val_loss: 0.0946 - val_accuracy: 0.9673\n",
            "Epoch 131/250\n",
            "125/125 [==============================] - 6s 47ms/step - loss: 0.0818 - accuracy: 0.9713 - val_loss: 0.1113 - val_accuracy: 0.9628\n",
            "Epoch 132/250\n",
            "125/125 [==============================] - 6s 44ms/step - loss: 0.0808 - accuracy: 0.9716 - val_loss: 0.0936 - val_accuracy: 0.9683\n",
            "Epoch 133/250\n",
            "125/125 [==============================] - 6s 46ms/step - loss: 0.0797 - accuracy: 0.9719 - val_loss: 0.0919 - val_accuracy: 0.9690\n",
            "Epoch 134/250\n",
            "125/125 [==============================] - 6s 44ms/step - loss: 0.0785 - accuracy: 0.9723 - val_loss: 0.1004 - val_accuracy: 0.9658\n",
            "Epoch 135/250\n",
            "125/125 [==============================] - 6s 45ms/step - loss: 0.0775 - accuracy: 0.9727 - val_loss: 0.0896 - val_accuracy: 0.9694\n",
            "Epoch 136/250\n",
            "125/125 [==============================] - 6s 46ms/step - loss: 0.0770 - accuracy: 0.9727 - val_loss: 0.0909 - val_accuracy: 0.9686\n",
            "Epoch 137/250\n",
            "125/125 [==============================] - 5s 44ms/step - loss: 0.0759 - accuracy: 0.9730 - val_loss: 0.0891 - val_accuracy: 0.9696\n",
            "Epoch 138/250\n",
            "125/125 [==============================] - 6s 48ms/step - loss: 0.0749 - accuracy: 0.9733 - val_loss: 0.0918 - val_accuracy: 0.9684\n",
            "Epoch 139/250\n",
            "125/125 [==============================] - 6s 45ms/step - loss: 0.0735 - accuracy: 0.9738 - val_loss: 0.0867 - val_accuracy: 0.9707\n",
            "Epoch 140/250\n",
            "125/125 [==============================] - 6s 47ms/step - loss: 0.0729 - accuracy: 0.9739 - val_loss: 0.0954 - val_accuracy: 0.9677\n",
            "Epoch 141/250\n",
            "125/125 [==============================] - 6s 44ms/step - loss: 0.0719 - accuracy: 0.9742 - val_loss: 0.0933 - val_accuracy: 0.9681\n",
            "Epoch 142/250\n",
            "125/125 [==============================] - 6s 47ms/step - loss: 0.0710 - accuracy: 0.9745 - val_loss: 0.0854 - val_accuracy: 0.9706\n",
            "Epoch 143/250\n",
            "125/125 [==============================] - 6s 44ms/step - loss: 0.0705 - accuracy: 0.9747 - val_loss: 0.0853 - val_accuracy: 0.9705\n",
            "Epoch 144/250\n",
            "125/125 [==============================] - 6s 48ms/step - loss: 0.0694 - accuracy: 0.9751 - val_loss: 0.0856 - val_accuracy: 0.9708\n",
            "Epoch 145/250\n",
            "125/125 [==============================] - 6s 45ms/step - loss: 0.0687 - accuracy: 0.9752 - val_loss: 0.0843 - val_accuracy: 0.9710\n",
            "Epoch 146/250\n",
            "125/125 [==============================] - 6s 47ms/step - loss: 0.0678 - accuracy: 0.9755 - val_loss: 0.0847 - val_accuracy: 0.9708\n",
            "Epoch 147/250\n",
            "125/125 [==============================] - 6s 44ms/step - loss: 0.0671 - accuracy: 0.9757 - val_loss: 0.0831 - val_accuracy: 0.9716\n",
            "Epoch 148/250\n",
            "125/125 [==============================] - 6s 47ms/step - loss: 0.0666 - accuracy: 0.9758 - val_loss: 0.0846 - val_accuracy: 0.9714\n",
            "Epoch 149/250\n",
            "125/125 [==============================] - 6s 44ms/step - loss: 0.0657 - accuracy: 0.9762 - val_loss: 0.0903 - val_accuracy: 0.9694\n",
            "Epoch 150/250\n",
            "125/125 [==============================] - 6s 48ms/step - loss: 0.0649 - accuracy: 0.9764 - val_loss: 0.0817 - val_accuracy: 0.9723\n",
            "Epoch 151/250\n",
            "125/125 [==============================] - 6s 45ms/step - loss: 0.0639 - accuracy: 0.9767 - val_loss: 0.0824 - val_accuracy: 0.9716\n",
            "Epoch 152/250\n",
            "125/125 [==============================] - 6s 45ms/step - loss: 0.0638 - accuracy: 0.9767 - val_loss: 0.0823 - val_accuracy: 0.9716\n",
            "Epoch 153/250\n",
            "125/125 [==============================] - 6s 46ms/step - loss: 0.0629 - accuracy: 0.9770 - val_loss: 0.0851 - val_accuracy: 0.9707\n",
            "Epoch 154/250\n",
            "125/125 [==============================] - 6s 44ms/step - loss: 0.0625 - accuracy: 0.9771 - val_loss: 0.0841 - val_accuracy: 0.9718\n",
            "Epoch 155/250\n",
            "125/125 [==============================] - 6s 47ms/step - loss: 0.0617 - accuracy: 0.9774 - val_loss: 0.0920 - val_accuracy: 0.9698\n",
            "Epoch 156/250\n",
            "125/125 [==============================] - 5s 44ms/step - loss: 0.0614 - accuracy: 0.9775 - val_loss: 0.0836 - val_accuracy: 0.9721\n",
            "Epoch 157/250\n",
            "125/125 [==============================] - 6s 47ms/step - loss: 0.0608 - accuracy: 0.9776 - val_loss: 0.0811 - val_accuracy: 0.9725\n",
            "Epoch 158/250\n",
            "125/125 [==============================] - 6s 44ms/step - loss: 0.0604 - accuracy: 0.9778 - val_loss: 0.0795 - val_accuracy: 0.9726\n",
            "Epoch 159/250\n",
            "125/125 [==============================] - 6s 48ms/step - loss: 0.0600 - accuracy: 0.9779 - val_loss: 0.0854 - val_accuracy: 0.9708\n",
            "Epoch 160/250\n",
            "125/125 [==============================] - 6s 45ms/step - loss: 0.0596 - accuracy: 0.9781 - val_loss: 0.0822 - val_accuracy: 0.9717\n",
            "Epoch 161/250\n",
            "125/125 [==============================] - 6s 47ms/step - loss: 0.0587 - accuracy: 0.9783 - val_loss: 0.0792 - val_accuracy: 0.9727\n",
            "Epoch 162/250\n",
            "125/125 [==============================] - 6s 44ms/step - loss: 0.0582 - accuracy: 0.9785 - val_loss: 0.0824 - val_accuracy: 0.9725\n",
            "Epoch 163/250\n",
            "125/125 [==============================] - 6s 47ms/step - loss: 0.0577 - accuracy: 0.9786 - val_loss: 0.0786 - val_accuracy: 0.9731\n",
            "Epoch 164/250\n",
            "125/125 [==============================] - 6s 44ms/step - loss: 0.0573 - accuracy: 0.9788 - val_loss: 0.0793 - val_accuracy: 0.9732\n",
            "Epoch 165/250\n",
            "125/125 [==============================] - 6s 46ms/step - loss: 0.0572 - accuracy: 0.9787 - val_loss: 0.0784 - val_accuracy: 0.9731\n",
            "Epoch 166/250\n",
            "125/125 [==============================] - 6s 46ms/step - loss: 0.0566 - accuracy: 0.9790 - val_loss: 0.0783 - val_accuracy: 0.9732\n",
            "Epoch 167/250\n",
            "125/125 [==============================] - 6s 45ms/step - loss: 0.0563 - accuracy: 0.9791 - val_loss: 0.0806 - val_accuracy: 0.9729\n",
            "Epoch 168/250\n",
            "125/125 [==============================] - 6s 46ms/step - loss: 0.0559 - accuracy: 0.9792 - val_loss: 0.0806 - val_accuracy: 0.9731\n",
            "Epoch 169/250\n",
            "125/125 [==============================] - 6s 44ms/step - loss: 0.0551 - accuracy: 0.9794 - val_loss: 0.0848 - val_accuracy: 0.9722\n",
            "Epoch 170/250\n",
            "125/125 [==============================] - 6s 47ms/step - loss: 0.0549 - accuracy: 0.9795 - val_loss: 0.0805 - val_accuracy: 0.9729\n",
            "Epoch 171/250\n",
            "125/125 [==============================] - 6s 44ms/step - loss: 0.0546 - accuracy: 0.9796 - val_loss: 0.0874 - val_accuracy: 0.9714\n",
            "Epoch 172/250\n",
            "125/125 [==============================] - 6s 47ms/step - loss: 0.0544 - accuracy: 0.9796 - val_loss: 0.0778 - val_accuracy: 0.9734\n",
            "Epoch 173/250\n",
            "125/125 [==============================] - 6s 44ms/step - loss: 0.0537 - accuracy: 0.9799 - val_loss: 0.0819 - val_accuracy: 0.9730\n",
            "Epoch 174/250\n",
            "125/125 [==============================] - 6s 48ms/step - loss: 0.0534 - accuracy: 0.9800 - val_loss: 0.0767 - val_accuracy: 0.9738\n",
            "Epoch 175/250\n",
            "125/125 [==============================] - 6s 44ms/step - loss: 0.0531 - accuracy: 0.9801 - val_loss: 0.0791 - val_accuracy: 0.9737\n",
            "Epoch 176/250\n",
            "125/125 [==============================] - 6s 47ms/step - loss: 0.0527 - accuracy: 0.9802 - val_loss: 0.0767 - val_accuracy: 0.9743\n",
            "Epoch 177/250\n",
            "125/125 [==============================] - 6s 45ms/step - loss: 0.0525 - accuracy: 0.9802 - val_loss: 0.0774 - val_accuracy: 0.9739\n",
            "Epoch 178/250\n",
            "125/125 [==============================] - 6s 50ms/step - loss: 0.0520 - accuracy: 0.9804 - val_loss: 0.0756 - val_accuracy: 0.9744\n",
            "Epoch 179/250\n",
            "125/125 [==============================] - 6s 44ms/step - loss: 0.0517 - accuracy: 0.9805 - val_loss: 0.0859 - val_accuracy: 0.9721\n",
            "Epoch 180/250\n",
            "125/125 [==============================] - 6s 46ms/step - loss: 0.0516 - accuracy: 0.9806 - val_loss: 0.0755 - val_accuracy: 0.9746\n",
            "Epoch 181/250\n",
            "125/125 [==============================] - 6s 45ms/step - loss: 0.0509 - accuracy: 0.9808 - val_loss: 0.0858 - val_accuracy: 0.9719\n",
            "Epoch 182/250\n",
            "125/125 [==============================] - 6s 45ms/step - loss: 0.0508 - accuracy: 0.9808 - val_loss: 0.0767 - val_accuracy: 0.9739\n",
            "Epoch 183/250\n",
            "125/125 [==============================] - 6s 46ms/step - loss: 0.0508 - accuracy: 0.9808 - val_loss: 0.0753 - val_accuracy: 0.9745\n",
            "Epoch 184/250\n",
            "125/125 [==============================] - 6s 44ms/step - loss: 0.0503 - accuracy: 0.9810 - val_loss: 0.0766 - val_accuracy: 0.9739\n",
            "Epoch 185/250\n",
            "125/125 [==============================] - 6s 47ms/step - loss: 0.0501 - accuracy: 0.9811 - val_loss: 0.0826 - val_accuracy: 0.9727\n",
            "Epoch 186/250\n",
            "125/125 [==============================] - 6s 45ms/step - loss: 0.0495 - accuracy: 0.9812 - val_loss: 0.0775 - val_accuracy: 0.9746\n",
            "Epoch 187/250\n",
            "125/125 [==============================] - 6s 47ms/step - loss: 0.0492 - accuracy: 0.9813 - val_loss: 0.0773 - val_accuracy: 0.9745\n",
            "Epoch 188/250\n",
            "125/125 [==============================] - 6s 44ms/step - loss: 0.0491 - accuracy: 0.9814 - val_loss: 0.0813 - val_accuracy: 0.9739\n",
            "Epoch 189/250\n",
            "125/125 [==============================] - 6s 47ms/step - loss: 0.0493 - accuracy: 0.9813 - val_loss: 0.0756 - val_accuracy: 0.9743\n",
            "Epoch 190/250\n",
            "125/125 [==============================] - 6s 44ms/step - loss: 0.0489 - accuracy: 0.9814 - val_loss: 0.0779 - val_accuracy: 0.9739\n",
            "Epoch 191/250\n",
            "125/125 [==============================] - 6s 47ms/step - loss: 0.0483 - accuracy: 0.9817 - val_loss: 0.0787 - val_accuracy: 0.9741\n",
            "Epoch 192/250\n",
            "125/125 [==============================] - 6s 44ms/step - loss: 0.0481 - accuracy: 0.9816 - val_loss: 0.0810 - val_accuracy: 0.9737\n",
            "Epoch 193/250\n",
            "125/125 [==============================] - 6s 47ms/step - loss: 0.0477 - accuracy: 0.9818 - val_loss: 0.0747 - val_accuracy: 0.9750\n",
            "Epoch 194/250\n",
            "125/125 [==============================] - 6s 45ms/step - loss: 0.0475 - accuracy: 0.9819 - val_loss: 0.0763 - val_accuracy: 0.9750\n",
            "Epoch 195/250\n",
            "125/125 [==============================] - 6s 47ms/step - loss: 0.0476 - accuracy: 0.9819 - val_loss: 0.0787 - val_accuracy: 0.9743\n",
            "Epoch 196/250\n",
            "125/125 [==============================] - 6s 45ms/step - loss: 0.0474 - accuracy: 0.9820 - val_loss: 0.0761 - val_accuracy: 0.9745\n",
            "Epoch 197/250\n",
            "125/125 [==============================] - 6s 45ms/step - loss: 0.0469 - accuracy: 0.9821 - val_loss: 0.0779 - val_accuracy: 0.9743\n",
            "Epoch 198/250\n",
            "125/125 [==============================] - 6s 46ms/step - loss: 0.0467 - accuracy: 0.9822 - val_loss: 0.0809 - val_accuracy: 0.9741\n",
            "Epoch 199/250\n",
            "125/125 [==============================] - 5s 44ms/step - loss: 0.0467 - accuracy: 0.9822 - val_loss: 0.0763 - val_accuracy: 0.9750\n",
            "Epoch 200/250\n",
            "125/125 [==============================] - 6s 47ms/step - loss: 0.0463 - accuracy: 0.9823 - val_loss: 0.0755 - val_accuracy: 0.9745\n",
            "Epoch 201/250\n",
            "125/125 [==============================] - 6s 44ms/step - loss: 0.0463 - accuracy: 0.9823 - val_loss: 0.0742 - val_accuracy: 0.9754\n",
            "Epoch 202/250\n",
            "125/125 [==============================] - 6s 47ms/step - loss: 0.0459 - accuracy: 0.9824 - val_loss: 0.0750 - val_accuracy: 0.9751\n",
            "Epoch 203/250\n",
            "125/125 [==============================] - 6s 45ms/step - loss: 0.0460 - accuracy: 0.9824 - val_loss: 0.0749 - val_accuracy: 0.9754\n",
            "Epoch 204/250\n",
            "125/125 [==============================] - 6s 47ms/step - loss: 0.0455 - accuracy: 0.9826 - val_loss: 0.0777 - val_accuracy: 0.9745\n",
            "Epoch 205/250\n",
            "125/125 [==============================] - 6s 44ms/step - loss: 0.0454 - accuracy: 0.9826 - val_loss: 0.0744 - val_accuracy: 0.9751\n",
            "Epoch 206/250\n",
            "125/125 [==============================] - 6s 46ms/step - loss: 0.0451 - accuracy: 0.9827 - val_loss: 0.0773 - val_accuracy: 0.9745\n",
            "Epoch 207/250\n",
            "125/125 [==============================] - 6s 44ms/step - loss: 0.0449 - accuracy: 0.9827 - val_loss: 0.0755 - val_accuracy: 0.9750\n",
            "Epoch 208/250\n",
            "125/125 [==============================] - 6s 46ms/step - loss: 0.0447 - accuracy: 0.9828 - val_loss: 0.0754 - val_accuracy: 0.9753\n",
            "Epoch 209/250\n",
            "125/125 [==============================] - 6s 45ms/step - loss: 0.0446 - accuracy: 0.9829 - val_loss: 0.0747 - val_accuracy: 0.9753\n",
            "Epoch 210/250\n",
            "125/125 [==============================] - 6s 45ms/step - loss: 0.0446 - accuracy: 0.9829 - val_loss: 0.0753 - val_accuracy: 0.9754\n",
            "Epoch 211/250\n",
            "125/125 [==============================] - 6s 46ms/step - loss: 0.0444 - accuracy: 0.9829 - val_loss: 0.0745 - val_accuracy: 0.9756\n",
            "Epoch 212/250\n",
            "125/125 [==============================] - 6s 44ms/step - loss: 0.0441 - accuracy: 0.9830 - val_loss: 0.0747 - val_accuracy: 0.9757\n",
            "Epoch 213/250\n",
            "125/125 [==============================] - 6s 48ms/step - loss: 0.0440 - accuracy: 0.9831 - val_loss: 0.0740 - val_accuracy: 0.9758\n",
            "Epoch 214/250\n",
            "125/125 [==============================] - 6s 44ms/step - loss: 0.0439 - accuracy: 0.9831 - val_loss: 0.0858 - val_accuracy: 0.9733\n",
            "Epoch 215/250\n",
            "125/125 [==============================] - 6s 48ms/step - loss: 0.0436 - accuracy: 0.9832 - val_loss: 0.0738 - val_accuracy: 0.9755\n",
            "Epoch 216/250\n",
            "125/125 [==============================] - 6s 45ms/step - loss: 0.0437 - accuracy: 0.9831 - val_loss: 0.0736 - val_accuracy: 0.9759\n",
            "Epoch 217/250\n",
            "125/125 [==============================] - 6s 48ms/step - loss: 0.0433 - accuracy: 0.9833 - val_loss: 0.0758 - val_accuracy: 0.9755\n",
            "Epoch 218/250\n",
            "125/125 [==============================] - 6s 44ms/step - loss: 0.0431 - accuracy: 0.9834 - val_loss: 0.0739 - val_accuracy: 0.9755\n",
            "Epoch 219/250\n",
            "125/125 [==============================] - 6s 47ms/step - loss: 0.0430 - accuracy: 0.9834 - val_loss: 0.0764 - val_accuracy: 0.9752\n",
            "Epoch 220/250\n",
            "125/125 [==============================] - 6s 44ms/step - loss: 0.0429 - accuracy: 0.9834 - val_loss: 0.0803 - val_accuracy: 0.9743\n",
            "Epoch 221/250\n",
            "125/125 [==============================] - 6s 47ms/step - loss: 0.0427 - accuracy: 0.9835 - val_loss: 0.0740 - val_accuracy: 0.9757\n",
            "Epoch 222/250\n",
            "125/125 [==============================] - 6s 44ms/step - loss: 0.0426 - accuracy: 0.9835 - val_loss: 0.0756 - val_accuracy: 0.9758\n",
            "Epoch 223/250\n",
            "125/125 [==============================] - 6s 49ms/step - loss: 0.0424 - accuracy: 0.9836 - val_loss: 0.0745 - val_accuracy: 0.9756\n",
            "Epoch 224/250\n",
            "125/125 [==============================] - 6s 44ms/step - loss: 0.0422 - accuracy: 0.9837 - val_loss: 0.0752 - val_accuracy: 0.9752\n",
            "Epoch 225/250\n",
            "125/125 [==============================] - 6s 46ms/step - loss: 0.0423 - accuracy: 0.9837 - val_loss: 0.0747 - val_accuracy: 0.9756\n",
            "Epoch 226/250\n",
            "125/125 [==============================] - 6s 45ms/step - loss: 0.0421 - accuracy: 0.9837 - val_loss: 0.0746 - val_accuracy: 0.9755\n",
            "Epoch 227/250\n",
            "125/125 [==============================] - 6s 45ms/step - loss: 0.0418 - accuracy: 0.9838 - val_loss: 0.0762 - val_accuracy: 0.9754\n",
            "Epoch 228/250\n",
            "125/125 [==============================] - 6s 47ms/step - loss: 0.0419 - accuracy: 0.9838 - val_loss: 0.0781 - val_accuracy: 0.9746\n",
            "Epoch 229/250\n",
            "125/125 [==============================] - 5s 44ms/step - loss: 0.0417 - accuracy: 0.9839 - val_loss: 0.0737 - val_accuracy: 0.9759\n",
            "Epoch 230/250\n",
            "125/125 [==============================] - 6s 48ms/step - loss: 0.0415 - accuracy: 0.9840 - val_loss: 0.0744 - val_accuracy: 0.9759\n",
            "Epoch 231/250\n",
            "125/125 [==============================] - 6s 44ms/step - loss: 0.0416 - accuracy: 0.9839 - val_loss: 0.0781 - val_accuracy: 0.9754\n",
            "Epoch 232/250\n",
            "125/125 [==============================] - 6s 48ms/step - loss: 0.0412 - accuracy: 0.9840 - val_loss: 0.0753 - val_accuracy: 0.9757\n",
            "Epoch 233/250\n",
            "125/125 [==============================] - 6s 44ms/step - loss: 0.0412 - accuracy: 0.9840 - val_loss: 0.0744 - val_accuracy: 0.9754\n",
            "Epoch 234/250\n",
            "125/125 [==============================] - 6s 48ms/step - loss: 0.0408 - accuracy: 0.9841 - val_loss: 0.0741 - val_accuracy: 0.9759\n",
            "Epoch 235/250\n",
            "125/125 [==============================] - 6s 44ms/step - loss: 0.0409 - accuracy: 0.9841 - val_loss: 0.0748 - val_accuracy: 0.9754\n",
            "Epoch 236/250\n",
            "125/125 [==============================] - 6s 47ms/step - loss: 0.0408 - accuracy: 0.9842 - val_loss: 0.0751 - val_accuracy: 0.9754\n",
            "Epoch 237/250\n",
            "125/125 [==============================] - 5s 44ms/step - loss: 0.0408 - accuracy: 0.9842 - val_loss: 0.0731 - val_accuracy: 0.9764\n",
            "Epoch 238/250\n",
            "125/125 [==============================] - 6s 47ms/step - loss: 0.0405 - accuracy: 0.9843 - val_loss: 0.0735 - val_accuracy: 0.9762\n",
            "Epoch 239/250\n",
            "125/125 [==============================] - 6s 44ms/step - loss: 0.0403 - accuracy: 0.9843 - val_loss: 0.0733 - val_accuracy: 0.9764\n",
            "Epoch 240/250\n",
            "125/125 [==============================] - 6s 46ms/step - loss: 0.0403 - accuracy: 0.9843 - val_loss: 0.0737 - val_accuracy: 0.9763\n",
            "Epoch 241/250\n",
            "125/125 [==============================] - 6s 48ms/step - loss: 0.0402 - accuracy: 0.9844 - val_loss: 0.0743 - val_accuracy: 0.9762\n",
            "Epoch 242/250\n",
            "125/125 [==============================] - 6s 48ms/step - loss: 0.0401 - accuracy: 0.9844 - val_loss: 0.0749 - val_accuracy: 0.9760\n",
            "Epoch 243/250\n",
            "125/125 [==============================] - 6s 45ms/step - loss: 0.0401 - accuracy: 0.9844 - val_loss: 0.0737 - val_accuracy: 0.9761\n",
            "Epoch 244/250\n",
            "125/125 [==============================] - 6s 47ms/step - loss: 0.0398 - accuracy: 0.9845 - val_loss: 0.0739 - val_accuracy: 0.9763\n",
            "Epoch 245/250\n",
            "125/125 [==============================] - 6s 46ms/step - loss: 0.0397 - accuracy: 0.9846 - val_loss: 0.0748 - val_accuracy: 0.9759\n",
            "Epoch 246/250\n",
            "125/125 [==============================] - 6s 44ms/step - loss: 0.0396 - accuracy: 0.9846 - val_loss: 0.0746 - val_accuracy: 0.9761\n",
            "Epoch 247/250\n",
            "125/125 [==============================] - 6s 48ms/step - loss: 0.0396 - accuracy: 0.9846 - val_loss: 0.0751 - val_accuracy: 0.9757\n",
            "Epoch 248/250\n",
            "125/125 [==============================] - 6s 45ms/step - loss: 0.0394 - accuracy: 0.9846 - val_loss: 0.0736 - val_accuracy: 0.9763\n",
            "Epoch 249/250\n",
            "125/125 [==============================] - 6s 47ms/step - loss: 0.0394 - accuracy: 0.9846 - val_loss: 0.0731 - val_accuracy: 0.9766\n",
            "Epoch 250/250\n",
            "125/125 [==============================] - 6s 45ms/step - loss: 0.0391 - accuracy: 0.9848 - val_loss: 0.0737 - val_accuracy: 0.9759\n"
          ]
        }
      ],
      "source": [
        "EPOCHS = 250\n",
        "\n",
        "steps_per_epoch = 4000//BATCH_SIZE\n",
        "validation_steps = 800//BATCH_SIZE\n",
        "test_steps = 200//BATCH_SIZE\n",
        "\n",
        "\n",
        "history = model.fit(training_dataset,\n",
        "                    steps_per_epoch=steps_per_epoch, validation_data=validation_dataset, validation_steps=validation_steps, epochs=EPOCHS)"
      ]
    },
    {
      "cell_type": "markdown",
      "metadata": {
        "id": "BLNzLB3peeNG"
      },
      "source": [
        "**Expected Output:**\n",
        "\n",
        "The losses should generally be decreasing and the accuracies should generally be increasing. For example, observing the first 4 epochs should output something similar:\n",
        "\n",
        "```txt\n",
        "Epoch 1/70\n",
        "125/125 [==============================] - 6s 50ms/step - loss: 0.5542 - accuracy: 0.8635 - val_loss: 0.5335 - val_accuracy: 0.9427\n",
        "Epoch 2/70\n",
        "125/125 [==============================] - 6s 47ms/step - loss: 0.2315 - accuracy: 0.9425 - val_loss: 0.3362 - val_accuracy: 0.9427\n",
        "Epoch 3/70\n",
        "125/125 [==============================] - 6s 47ms/step - loss: 0.2118 - accuracy: 0.9426 - val_loss: 0.2592 - val_accuracy: 0.9427\n",
        "Epoch 4/70\n",
        "125/125 [==============================] - 6s 47ms/step - loss: 0.1782 - accuracy: 0.9431 - val_loss: 0.1770 - val_accuracy: 0.9432\n",
        "```"
      ]
    },
    {
      "cell_type": "markdown",
      "metadata": {
        "id": "eih-Q7GoXzJe"
      },
      "source": [
        "## Model Evaluation"
      ]
    },
    {
      "cell_type": "markdown",
      "metadata": {
        "id": "2bTkaFM2X1gr"
      },
      "source": [
        "### Make Predictions\n",
        "\n",
        "Let's get the predictions using our test dataset as input and print the shape."
      ]
    },
    {
      "cell_type": "code",
      "execution_count": 18,
      "metadata": {
        "colab": {
          "base_uri": "https://localhost:8080/"
        },
        "id": "zENjQuK0luH5",
        "outputId": "7651d9f9-3943-478e-f8a0-bcfedc58f408"
      },
      "outputs": [
        {
          "output_type": "stream",
          "name": "stdout",
          "text": [
            "6/6 [==============================] - 0s 14ms/step\n",
            "(192, 64, 84, 11)\n"
          ]
        }
      ],
      "source": [
        "results = model.predict(test_dataset, steps=test_steps)\n",
        "\n",
        "print(results.shape)"
      ]
    },
    {
      "cell_type": "markdown",
      "metadata": {
        "id": "IReKPT_DZHjA"
      },
      "source": [
        "As we can see, the resulting shape is `(192, 64, 84, 11)`. This means that for each of the 192 images that we have in our test set, there are 11 predictions generated (i.e. one for each class: 0 to 1 plus background)."
      ]
    },
    {
      "cell_type": "markdown",
      "metadata": {
        "id": "OBPBqnHyaSaG"
      },
      "source": [
        "Thus, if we want to see the *probability* of the upper leftmost pixel of the 1st image belonging to class 0, then you can print something like `results[0,0,0,0]`. If you want the probability of the same pixel at class 10, then do `results[0,0,0,10]`.\n",
        "\n",
        "\n"
      ]
    },
    {
      "cell_type": "code",
      "execution_count": 19,
      "metadata": {
        "colab": {
          "base_uri": "https://localhost:8080/"
        },
        "id": "jwFiR9WAf0Av",
        "outputId": "e5787553-7920-4705-cd4f-a7c9beb912bc"
      },
      "outputs": [
        {
          "output_type": "stream",
          "name": "stdout",
          "text": [
            "3.0229157e-05\n",
            "0.99906427\n"
          ]
        }
      ],
      "source": [
        "print(results[0,0,0,0])\n",
        "print(results[0,0,0,10])"
      ]
    },
    {
      "cell_type": "markdown",
      "metadata": {
        "id": "wKDsqzKEf28V"
      },
      "source": [
        "What we're interested in is to get the *index* of the highest probability of each of these 11 slices and combine them in a single image. We can do that by getting the [argmax](https://numpy.org/doc/stable/reference/generated/numpy.argmax.html) at this axis."
      ]
    },
    {
      "cell_type": "code",
      "execution_count": 20,
      "metadata": {
        "colab": {
          "base_uri": "https://localhost:8080/"
        },
        "id": "0_Uj_uuV9TQt",
        "outputId": "007c17be-8602-4518-a732-a46eaf1de478"
      },
      "outputs": [
        {
          "output_type": "stream",
          "name": "stdout",
          "text": [
            "(192, 64, 84)\n"
          ]
        }
      ],
      "source": [
        "results = np.argmax(results, axis=3)\n",
        "\n",
        "print(results.shape)"
      ]
    },
    {
      "cell_type": "markdown",
      "metadata": {
        "id": "ClaGbOLhdKD2"
      },
      "source": [
        "The new array generated per image now only specifies the indices of the class with the highest probability. Let's see the output class of the upper most left pixel. As you might have observed earlier when you inspected the dataset, the upper left corner is usually just part of the background (class 10). The actual digits are written somewhere in the middle parts of the image."
      ]
    },
    {
      "cell_type": "code",
      "execution_count": 21,
      "metadata": {
        "colab": {
          "base_uri": "https://localhost:8080/"
        },
        "id": "aBeBwvHQd2pZ",
        "outputId": "2332cbae-add9-4b4f-d44f-fa778bcbebf3"
      },
      "outputs": [
        {
          "output_type": "stream",
          "name": "stdout",
          "text": [
            "10\n",
            "[[10 10 10 ... 10 10 10]\n",
            " [10 10 10 ... 10 10 10]\n",
            " [10 10 10 ... 10 10 10]\n",
            " ...\n",
            " [10 10 10 ... 10 10 10]\n",
            " [10 10 10 ... 10 10 10]\n",
            " [10 10 10 ... 10 10 10]]\n"
          ]
        }
      ],
      "source": [
        "print(results[0,0,0])\n",
        "\n",
        "# prediction map for image 0\n",
        "print(results[0,:,:])"
      ]
    },
    {
      "cell_type": "markdown",
      "metadata": {
        "id": "V3FxyNgrg7IE"
      },
      "source": [
        "We will use this `results` array when we evaluate our predictions."
      ]
    },
    {
      "cell_type": "markdown",
      "metadata": {
        "id": "hpKDUuAWX5Pj"
      },
      "source": [
        "### Metrics\n",
        "\n",
        "There are two ways to evaluate your predictions. The *intersection over union (IOU)* and the *dice score*. \n",
        "\n",
        "$$IOU = \\frac{area\\_of\\_overlap}{area\\_of\\_union}$$\n",
        "<br>\n",
        "$$Dice Score = 2 * \\frac{area\\_of\\_overlap}{combined\\_area}$$\n",
        "\n",
        "A small smoothing factor is introduced in the denominators to prevent possible division by zero."
      ]
    },
    {
      "cell_type": "code",
      "execution_count": 22,
      "metadata": {
        "id": "gKTpLmly_RXb"
      },
      "outputs": [],
      "source": [
        "def class_wise_metrics(y_true, y_pred):\n",
        "  '''\n",
        "  Computes the class-wise IOU and Dice Score.\n",
        "\n",
        "  Args:\n",
        "    y_true (tensor) - ground truth label maps\n",
        "    y_pred (tensor) - predicted label maps\n",
        "  '''\n",
        "  class_wise_iou = []\n",
        "  class_wise_dice_score = []\n",
        "\n",
        "  smoothing_factor = 0.00001\n",
        "\n",
        "  for i in range(n_classes):\n",
        "    intersection = np.sum((y_pred == i) * (y_true == i))\n",
        "    y_true_area = np.sum((y_true == i))\n",
        "    y_pred_area = np.sum((y_pred == i))\n",
        "    combined_area = y_true_area + y_pred_area\n",
        "    \n",
        "    iou = (intersection) / (combined_area - intersection + smoothing_factor)\n",
        "    class_wise_iou.append(iou)\n",
        "    \n",
        "    dice_score =  2 * ((intersection) / (combined_area + smoothing_factor))\n",
        "    class_wise_dice_score.append(dice_score)\n",
        "\n",
        "  return class_wise_iou, class_wise_dice_score\n"
      ]
    },
    {
      "cell_type": "markdown",
      "metadata": {
        "id": "FfWPwM4ZhHjE"
      },
      "source": [
        "### Visualize Predictions"
      ]
    },
    {
      "cell_type": "code",
      "execution_count": 23,
      "metadata": {
        "colab": {
          "base_uri": "https://localhost:8080/",
          "height": 333
        },
        "id": "Hkbsk_P1fpRM",
        "lines_to_next_cell": 2,
        "outputId": "74a4dada-c27c-4c56-f5ac-78d52892f078"
      },
      "outputs": [
        {
          "output_type": "display_data",
          "data": {
            "text/plain": [
              "<Figure size 1500x400 with 3 Axes>"
            ],
            "image/png": "[encoded data removed]"
          },
          "metadata": {}
        }
      ],
      "source": [
        "# place a number here between 0 to 191 to pick an image from the test set\n",
        "integer_slider = 105\n",
        "\n",
        "ds = test_dataset.unbatch()\n",
        "ds = ds.batch(200)\n",
        "images = []\n",
        "\n",
        "y_true_segments = []\n",
        "for image, annotation in ds.take(2):\n",
        "  y_true_segments = annotation\n",
        "  images = image\n",
        "  \n",
        "  \n",
        "iou, dice_score = class_wise_metrics(np.argmax(y_true_segments[integer_slider], axis=2), results[integer_slider])  \n",
        "show_annotation_and_prediction(image[integer_slider], annotation[integer_slider], results[integer_slider], iou, dice_score)\n"
      ]
    },
    {
      "cell_type": "markdown",
      "metadata": {
        "id": "EiG9K4t6X9iZ"
      },
      "source": [
        "### Compute IOU Score and Dice Score of the model"
      ]
    },
    {
      "cell_type": "code",
      "execution_count": 24,
      "metadata": {
        "colab": {
          "base_uri": "https://localhost:8080/"
        },
        "id": "2706boF0CNNS",
        "lines_to_next_cell": 2,
        "outputId": "e5a69ae0-bc0e-4191-8adb-2a5aad972c82"
      },
      "outputs": [
        {
          "output_type": "stream",
          "name": "stdout",
          "text": [
            "Digit 0: IOU: 0.669040279871357 Dice Score: 0.8017065710636102\n",
            "Digit 1: IOU: 0.6786803418944265 Dice Score: 0.8085879425126541\n",
            "Digit 2: IOU: 0.58793431629232 Dice Score: 0.7405020601419993\n",
            "Digit 3: IOU: 0.3990976204551578 Dice Score: 0.5705071820868688\n",
            "Digit 4: IOU: 0.4796324648091387 Dice Score: 0.64831297800837\n",
            "Digit 5: IOU: 0.48671402198538016 Dice Score: 0.65475137085936\n",
            "Digit 6: IOU: 0.6544364500546326 Dice Score: 0.791129148578686\n",
            "Digit 7: IOU: 0.6095808374108072 Dice Score: 0.7574404754860115\n",
            "Digit 8: IOU: 0.572012778821709 Dice Score: 0.7277457111391386\n",
            "Digit 9: IOU: 0.5395195650144914 Dice Score: 0.7008934180182542\n",
            "\n",
            "Grade is 56.76648676609421\n"
          ]
        }
      ],
      "source": [
        "cls_wise_iou, cls_wise_dice_score = class_wise_metrics(np.argmax(y_true_segments, axis=3), results)\n",
        "\n",
        "average_iou = 0.0\n",
        "for idx, (iou, dice_score) in enumerate(zip(cls_wise_iou[:-1], cls_wise_dice_score[:-1])):\n",
        "  print(\"Digit {}: IOU: {} Dice Score: {}\".format(idx, iou, dice_score)) \n",
        "  average_iou += iou\n",
        "\n",
        "grade = average_iou * 10\n",
        "\n",
        "print(\"\\nGrade is \" + str(grade))"
      ]
    },
    {
      "cell_type": "markdown",
      "metadata": {
        "id": "vvw0HLY2kV3w"
      },
      "source": [
        "## Save the Model"
      ]
    },
    {
      "cell_type": "code",
      "execution_count": 25,
      "metadata": {
        "id": "ULCfGHEKkaO0"
      },
      "outputs": [],
      "source": [
        "model.save(\"model.h5\")"
      ]
    }
  ],
  "metadata": {
    "accelerator": "GPU",
    "colab": {
      "provenance": []
    },
    "gpuClass": "standard",
    "kernelspec": {
      "display_name": "Python 3 (ipykernel)",
      "language": "python",
      "name": "python3"
    },
    "language_info": {
      "codemirror_mode": {
        "name": "ipython",
        "version": 3
      },
      "file_extension": ".py",
      "mimetype": "text/x-python",
      "name": "python",
      "nbconvert_exporter": "python",
      "pygments_lexer": "ipython3",
      "version": "3.9.16"
    },
    "vscode": {
      "interpreter": {
        "hash": "56d44d6a8424451b5ce45d1ae0b0b7865dc60710e7f74571dd51dd80d7829ee9"
      }
    }
  },
  "nbformat": 4,
  "nbformat_minor": 0
}