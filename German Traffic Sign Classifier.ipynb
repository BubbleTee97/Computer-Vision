{
  "nbformat": 4,
  "nbformat_minor": 0,
  "metadata": {
    "colab": {
      "provenance": []
    },
    "kernelspec": {
      "name": "python3",
      "display_name": "Python 3"
    },
    "language_info": {
      "name": "python"
    },
    "accelerator": "GPU",
    "gpuClass": "standard"
  },
  "cells": [
    {
      "cell_type": "code",
      "source": [
        "from keras.callbacks import History\n",
        "# BASIC DATASETS QUESTION\n",
        "#\n",
        "# Create a classifier for the German Traffic Signs dataset that classifies\n",
        "# images of traffic signs into 43 classes.\n",
        "# ==============================================================================\n",
        "#\n",
        "# ABOUT THE DATASET\n",
        "#\n",
        "# The dataset contains traffic sign boards from the streets captured into\n",
        "# image files. There are 43 unique classes in total. The images are of shape\n",
        "# (30,30,3).\n",
        "# ==============================================================================\n",
        "import urllib\n",
        "import zipfile\n",
        "import tensorflow as tf\n",
        "from tensorflow.keras.preprocessing.image import ImageDataGenerator\n",
        "\n",
        "def download_and_extract_data():\n",
        "    url = 'https://storage.googleapis.com/download.tensorflow.org/data/certificate/germantrafficsigns.zip'\n",
        "    urllib.request.urlretrieve(url, 'germantrafficsigns.zip')\n",
        "    with zipfile.ZipFile('germantrafficsigns.zip', 'r') as zip_ref:\n",
        "        zip_ref.extractall()\n",
        "\n",
        "def preprocess(image, label):\n",
        "    image = image / 255.0\n",
        "    return image, label"
      ],
      "metadata": {
        "id": "hk0yJBQ3S8Yg"
      },
      "execution_count": 23,
      "outputs": []
    },
    {
      "cell_type": "code",
      "source": [
        "download_and_extract_data()\n",
        "\n",
        "BATCH_SIZE = 32\n",
        "IMG_SIZE = 30\n",
        "\n",
        "train_ds = tf.keras.preprocessing.image_dataset_from_directory(\n",
        "directory='train/',\n",
        "label_mode='categorical',\n",
        "image_size=  (IMG_SIZE,IMG_SIZE), batch_size = BATCH_SIZE)\n",
        "\n",
        "print(train_ds)\n",
        "\n",
        "val_ds = tf.keras.preprocessing.image_dataset_from_directory(\n",
        "directory='validation/',\n",
        "label_mode='categorical',\n",
        "image_size= (IMG_SIZE,IMG_SIZE)\n",
        ", batch_size = BATCH_SIZE)\n",
        "\n",
        "print(val_ds)\n",
        "\n",
        "\n",
        "train_ds = train_ds.map(\n",
        "preprocess, num_parallel_calls=tf.data.experimental.AUTOTUNE).prefetch(\n",
        "tf.data.experimental.AUTOTUNE)\n",
        "val_ds = val_ds.map(\n",
        "preprocess, num_parallel_calls=tf.data.experimental.AUTOTUNE)\n",
        "\n",
        "print(train_ds)\n",
        "\n",
        "\n",
        "# Code to define the model\n",
        "model = tf.keras.models.Sequential([\n",
        "tf.keras.layers.Conv2D(32, (3, 3), activation='relu', input_shape=(30, 30, 3)),\n",
        "tf.keras.layers.MaxPooling2D(2, 2),\n",
        "tf.keras.layers.Conv2D(64, (3, 3), activation='relu'),\n",
        "tf.keras.layers.MaxPooling2D(2, 2),\n",
        "tf.keras.layers.Flatten(),\n",
        "tf.keras.layers.Dense(256, activation='relu'),\n",
        "#tf.keras.layers.Dense(512, activation='relu'),\n",
        "tf.keras.layers.Dropout(0.4),\n",
        "tf.keras.layers.Dense(43, activation=tf.nn.softmax)\n",
        "])\n",
        "\n",
        "# Code to compile and train the model\n",
        "model.compile(optimizer='adam',\n",
        "    loss='categorical_crossentropy',\n",
        "    metrics=['acc'])\n",
        "\n",
        "model.summary()"
      ],
      "metadata": {
        "colab": {
          "base_uri": "https://localhost:8080/"
        },
        "id": "fzZxrTp1Xle-",
        "outputId": "572ae8bb-8be6-44df-b10d-d1237f66bb99"
      },
      "execution_count": 24,
      "outputs": [
        {
          "output_type": "stream",
          "name": "stdout",
          "text": [
            "Found 31367 files belonging to 43 classes.\n",
            "<_BatchDataset element_spec=(TensorSpec(shape=(None, 30, 30, 3), dtype=tf.float32, name=None), TensorSpec(shape=(None, 43), dtype=tf.float32, name=None))>\n",
            "Found 7842 files belonging to 43 classes.\n",
            "<_BatchDataset element_spec=(TensorSpec(shape=(None, 30, 30, 3), dtype=tf.float32, name=None), TensorSpec(shape=(None, 43), dtype=tf.float32, name=None))>\n",
            "<_PrefetchDataset element_spec=(TensorSpec(shape=(None, 30, 30, 3), dtype=tf.float32, name=None), TensorSpec(shape=(None, 43), dtype=tf.float32, name=None))>\n",
            "Model: \"sequential_5\"\n",
            "_________________________________________________________________\n",
            " Layer (type)                Output Shape              Param #   \n",
            "=================================================================\n",
            " conv2d_10 (Conv2D)          (None, 28, 28, 32)        896       \n",
            "                                                                 \n",
            " max_pooling2d_10 (MaxPoolin  (None, 14, 14, 32)       0         \n",
            " g2D)                                                            \n",
            "                                                                 \n",
            " conv2d_11 (Conv2D)          (None, 12, 12, 64)        18496     \n",
            "                                                                 \n",
            " max_pooling2d_11 (MaxPoolin  (None, 6, 6, 64)         0         \n",
            " g2D)                                                            \n",
            "                                                                 \n",
            " flatten_5 (Flatten)         (None, 2304)              0         \n",
            "                                                                 \n",
            " dense_10 (Dense)            (None, 256)               590080    \n",
            "                                                                 \n",
            " dropout_5 (Dropout)         (None, 256)               0         \n",
            "                                                                 \n",
            " dense_11 (Dense)            (None, 43)                11051     \n",
            "                                                                 \n",
            "=================================================================\n",
            "Total params: 620,523\n",
            "Trainable params: 620,523\n",
            "Non-trainable params: 0\n",
            "_________________________________________________________________\n"
          ]
        }
      ]
    },
    {
      "cell_type": "code",
      "source": [
        "history = model.fit(train_ds,validation_data=val_ds,epochs=15,batch_size=32)"
      ],
      "metadata": {
        "colab": {
          "base_uri": "https://localhost:8080/"
        },
        "id": "FOHq0iZdXlhN",
        "outputId": "6cbb0a59-b5c9-47ef-a440-3ed7a185fd71"
      },
      "execution_count": 25,
      "outputs": [
        {
          "output_type": "stream",
          "name": "stdout",
          "text": [
            "Epoch 1/15\n",
            "981/981 [==============================] - 11s 10ms/step - loss: 1.4132 - acc: 0.6042 - val_loss: 0.3523 - val_acc: 0.9146\n",
            "Epoch 2/15\n",
            "981/981 [==============================] - 9s 10ms/step - loss: 0.3607 - acc: 0.8921 - val_loss: 0.1477 - val_acc: 0.9645\n",
            "Epoch 3/15\n",
            "981/981 [==============================] - 9s 9ms/step - loss: 0.2046 - acc: 0.9381 - val_loss: 0.1086 - val_acc: 0.9719\n",
            "Epoch 4/15\n",
            "981/981 [==============================] - 10s 11ms/step - loss: 0.1493 - acc: 0.9553 - val_loss: 0.0809 - val_acc: 0.9806\n",
            "Epoch 5/15\n",
            "981/981 [==============================] - 9s 9ms/step - loss: 0.1095 - acc: 0.9659 - val_loss: 0.0646 - val_acc: 0.9819\n",
            "Epoch 6/15\n",
            "981/981 [==============================] - 9s 9ms/step - loss: 0.0896 - acc: 0.9724 - val_loss: 0.0565 - val_acc: 0.9847\n",
            "Epoch 7/15\n",
            "981/981 [==============================] - 8s 9ms/step - loss: 0.0763 - acc: 0.9758 - val_loss: 0.0715 - val_acc: 0.9836\n",
            "Epoch 8/15\n",
            "981/981 [==============================] - 9s 10ms/step - loss: 0.0677 - acc: 0.9781 - val_loss: 0.0528 - val_acc: 0.9869\n",
            "Epoch 9/15\n",
            "981/981 [==============================] - 11s 11ms/step - loss: 0.0610 - acc: 0.9801 - val_loss: 0.0475 - val_acc: 0.9890\n",
            "Epoch 10/15\n",
            "981/981 [==============================] - 10s 10ms/step - loss: 0.0505 - acc: 0.9834 - val_loss: 0.0461 - val_acc: 0.9898\n",
            "Epoch 11/15\n",
            "981/981 [==============================] - 10s 10ms/step - loss: 0.0442 - acc: 0.9861 - val_loss: 0.0388 - val_acc: 0.9906\n",
            "Epoch 12/15\n",
            "981/981 [==============================] - 9s 9ms/step - loss: 0.0443 - acc: 0.9861 - val_loss: 0.0438 - val_acc: 0.9897\n",
            "Epoch 13/15\n",
            "981/981 [==============================] - 11s 11ms/step - loss: 0.0417 - acc: 0.9869 - val_loss: 0.0459 - val_acc: 0.9904\n",
            "Epoch 14/15\n",
            "981/981 [==============================] - 9s 9ms/step - loss: 0.0379 - acc: 0.9884 - val_loss: 0.0389 - val_acc: 0.9909\n",
            "Epoch 15/15\n",
            "981/981 [==============================] - 10s 10ms/step - loss: 0.0361 - acc: 0.9890 - val_loss: 0.0423 - val_acc: 0.9909\n"
          ]
        }
      ]
    },
    {
      "cell_type": "code",
      "source": [
        "import matplotlib.pyplot as plt\n",
        "\n",
        "# Plot the accuracy curves for training and validation\n",
        "plt.plot(history.history['acc'])\n",
        "plt.plot(history.history['val_acc'])\n",
        "plt.title('Model accuracy')\n",
        "plt.ylabel('Accuracy')\n",
        "plt.xlabel('Epoch')\n",
        "plt.legend(['Train', 'Validation'], loc='upper left')\n",
        "plt.show()\n",
        "\n",
        "# Plot the loss curves for training and validation\n",
        "plt.plot(history.history['loss'])\n",
        "plt.plot(history.history['val_loss'])\n",
        "plt.title('Model loss')\n",
        "plt.ylabel('Loss')\n",
        "plt.xlabel('Epoch')\n",
        "plt.legend(['Train', 'Validation'], loc='upper left')\n",
        "plt.show()"
      ],
      "metadata": {
        "colab": {
          "base_uri": "https://localhost:8080/",
          "height": 927
        },
        "id": "Pc9qq2kZXljd",
        "outputId": "3d9f95d1-435a-44e3-92c5-9b879fb2d124"
      },
      "execution_count": 26,
      "outputs": [
        {
          "output_type": "display_data",
          "data": {
            "text/plain": [
              "<Figure size 640x480 with 1 Axes>"
            ],
            "image/png": "[encoded data removed]"
          },
          "metadata": {}
        },
        {
          "output_type": "display_data",
          "data": {
            "text/plain": [
              "<Figure size 640x480 with 1 Axes>"
            ],
            "image/png": "[encoded data removed]"
          },
          "metadata": {}
        }
      ]
    },
    {
      "cell_type": "code",
      "source": [
        "import numpy as np\n",
        "\n",
        "# Extract the images and labels from the validation dataset\n",
        "X_val = []\n",
        "y_val = []\n",
        "for images, labels in val_ds:\n",
        "    X_val.append(images.numpy())\n",
        "    y_val.append(labels.numpy())\n",
        "\n",
        "# Convert the list of images and labels to numpy arrays\n",
        "X_val = np.concatenate(X_val)\n",
        "y_val = np.concatenate(y_val)\n",
        "\n",
        "# Make predictions on the validation set using the trained model\n",
        "y_pred = model.predict(X_val)\n",
        "\n",
        "# Convert the predicted labels from probabilities to binary format\n",
        "y_pred_binary = np.argmax(y_pred, axis=1)\n",
        "\n",
        "# Convert the true labels from one-hot encoding to binary format\n",
        "y_true_binary = np.argmax(y_val, axis=1)\n"
      ],
      "metadata": {
        "colab": {
          "base_uri": "https://localhost:8080/"
        },
        "id": "Yi0ecAqQcJll",
        "outputId": "f4d5dedc-a9a4-4532-a918-0d4e9c14c8e9"
      },
      "execution_count": 27,
      "outputs": [
        {
          "output_type": "stream",
          "name": "stdout",
          "text": [
            "246/246 [==============================] - 0s 2ms/step\n"
          ]
        }
      ]
    },
    {
      "cell_type": "code",
      "source": [
        "from sklearn.metrics import classification_report\n",
        "\n",
        "# Calculate the precision, recall, and F1 score for each class\n",
        "report = classification_report(y_true_binary, y_pred_binary)\n",
        "print('Classification report:')\n",
        "print(report)\n"
      ],
      "metadata": {
        "colab": {
          "base_uri": "https://localhost:8080/"
        },
        "id": "KSPLSmbMc3gE",
        "outputId": "f4d172e8-a137-4c55-948d-2faf14800881"
      },
      "execution_count": 28,
      "outputs": [
        {
          "output_type": "stream",
          "name": "stdout",
          "text": [
            "Classification report:\n",
            "              precision    recall  f1-score   support\n",
            "\n",
            "           0       0.98      0.95      0.96        42\n",
            "           1       0.97      0.99      0.98       444\n",
            "           2       0.97      1.00      0.98       450\n",
            "           3       0.98      0.99      0.98       282\n",
            "           4       1.00      0.99      1.00       396\n",
            "           5       0.99      0.98      0.98       372\n",
            "           6       1.00      1.00      1.00        84\n",
            "           7       0.99      0.98      0.98       288\n",
            "           8       0.99      0.97      0.98       282\n",
            "           9       1.00      0.99      0.99       294\n",
            "          10       1.00      0.99      0.99       402\n",
            "          11       1.00      1.00      1.00       264\n",
            "          12       1.00      1.00      1.00       420\n",
            "          13       1.00      1.00      1.00       432\n",
            "          14       0.99      1.00      1.00       156\n",
            "          15       1.00      1.00      1.00       126\n",
            "          16       1.00      1.00      1.00        84\n",
            "          17       1.00      1.00      1.00       222\n",
            "          18       0.99      0.99      0.99       240\n",
            "          19       1.00      0.98      0.99        42\n",
            "          20       0.95      0.99      0.97        72\n",
            "          21       0.99      1.00      0.99        66\n",
            "          22       0.97      1.00      0.99        78\n",
            "          23       1.00      1.00      1.00       102\n",
            "          24       1.00      0.98      0.99        54\n",
            "          25       0.99      0.99      0.99       300\n",
            "          26       0.99      1.00      1.00       120\n",
            "          27       0.94      1.00      0.97        48\n",
            "          28       0.99      0.98      0.99       108\n",
            "          29       1.00      0.98      0.99        54\n",
            "          30       0.99      1.00      0.99        90\n",
            "          31       1.00      1.00      1.00       156\n",
            "          32       1.00      0.98      0.99        48\n",
            "          33       1.00      0.98      0.99       138\n",
            "          34       1.00      0.99      0.99        84\n",
            "          35       1.00      1.00      1.00       240\n",
            "          36       0.97      1.00      0.99        78\n",
            "          37       0.98      0.98      0.98        42\n",
            "          38       1.00      1.00      1.00       414\n",
            "          39       0.98      1.00      0.99        60\n",
            "          40       0.99      0.99      0.99        72\n",
            "          41       0.98      0.98      0.98        48\n",
            "          42       0.96      1.00      0.98        48\n",
            "\n",
            "    accuracy                           0.99      7842\n",
            "   macro avg       0.99      0.99      0.99      7842\n",
            "weighted avg       0.99      0.99      0.99      7842\n",
            "\n"
          ]
        }
      ]
    },
    {
      "cell_type": "code",
      "source": [
        "# Calculate the F1 score\n",
        "f1score = f1_score(y_true_binary, y_pred_binary, average='weighted')\n",
        "print('F1 score: {:.2f}'.format(f1score))"
      ],
      "metadata": {
        "colab": {
          "base_uri": "https://localhost:8080/"
        },
        "id": "EqEhA4SxcMN0",
        "outputId": "5e2d3669-d50c-4f94-d649-58fd880ef8cc"
      },
      "execution_count": 29,
      "outputs": [
        {
          "output_type": "stream",
          "name": "stdout",
          "text": [
            "F1 score: 0.99\n"
          ]
        }
      ]
    }
  ]
}